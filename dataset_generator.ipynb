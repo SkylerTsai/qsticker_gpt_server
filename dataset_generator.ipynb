{
 "cells": [
  {
   "cell_type": "markdown",
   "metadata": {},
   "source": [
    "# Dataset generator"
   ]
  },
  {
   "cell_type": "code",
   "execution_count": 10,
   "metadata": {},
   "outputs": [
    {
     "data": {
      "text/plain": [
       "[]"
      ]
     },
     "execution_count": 10,
     "metadata": {},
     "output_type": "execute_result"
    }
   ],
   "source": [
    "import os\n",
    "def list_files(directory):\n",
    "    ret = []\n",
    "    for root, dirs, files in os.walk(directory):\n",
    "        for file in files:\n",
    "            #print(os.path.join(root, file))\n",
    "            ret.append(os.path.join(root, file))\n",
    "    return ret\n",
    "list_files('E:\\\\HanlinMath\\\\ElementarySchool\\\\grade1')"
   ]
  },
  {
   "cell_type": "code",
   "execution_count": 11,
   "metadata": {},
   "outputs": [
    {
     "name": "stdout",
     "output_type": "stream",
     "text": [
      "E:\\HanlinMath\\ElementarySchool\\grade1_2\\1_1.docx\n"
     ]
    },
    {
     "data": {
      "text/plain": [
       "[{'input': '(   )算算看，哪一個答案不是\\u300015？\\u3000(Ａ)\\u30009＋6\\u3000(Ｂ)\\u30008＋7\\u3000(Ｃ)\\u30006＋8。',\n",
       "  'output': '答案：(Ｃ) 解析：(Ａ)\\u30009＋6＝15；(Ｂ)\\u30008＋7＝15；(Ｃ)\\u30006＋8＝14 ',\n",
       "  'difficulty': '中',\n",
       "  'chapter': '1-1_基本加法'},\n",
       " {'input': '(   )包子店上午賣出\\u30005\\u3000個高麗菜包，下午賣出\\u30009\\u3000個高麗菜包，包子店共賣出幾個高麗菜包？\\u3000(Ａ)\\u300012\\u3000個\\u3000(Ｂ)\\u300013\\u3000個\\u3000(Ｃ)\\u300014\\u3000個。',\n",
       "  'output': '答案：(Ｃ) 解析：5＋9＝14 ',\n",
       "  'difficulty': '易',\n",
       "  'chapter': '1-1_基本加法'},\n",
       " {'input': '(   )籃子裡有\\u30005\\u3000顆綠球和\\u30007\\u3000顆黃球，籃子裡共有幾顆球？\\u3000(Ａ)\\u300013\\u3000顆\\u3000(Ｂ)\\u300012\\u3000顆\\u3000(Ｃ)\\u300011\\u3000顆。',\n",
       "  'output': '答案：(Ｂ) 解析：5＋7＝12 ',\n",
       "  'difficulty': '易',\n",
       "  'chapter': '1-1_基本加法'},\n",
       " {'input': '(   )操場上原有\\u30009\\u3000個小朋友，又來\\u30006\\u3000個小朋友，操場上現在共有幾個小朋友？\\u3000(Ａ)\\u300015\\u3000個\\u3000(Ｂ)\\u300016\\u3000個\\u3000(Ｃ)\\u300017\\u3000個。',\n",
       "  'output': '答案：(Ａ) 解析：9＋6＝15 ',\n",
       "  'difficulty': '易',\n",
       "  'chapter': '1-1_基本加法'},\n",
       " {'input': '(   )書桌上有\\u300010\\u3000本名人傳記和\\u30006\\u3000本科學小百科，書桌上一共有幾本書？\\u3000(Ａ)\\u300015\\u3000本\\u3000(Ｂ)\\u300016\\u3000本\\u3000(Ｃ)\\u300017\\u3000本。',\n",
       "  'output': '答案：(Ｂ) 解析：10＋6＝16 ',\n",
       "  'difficulty': '易',\n",
       "  'chapter': '1-1_基本加法'},\n",
       " {'input': '(   )「哥哥有\\u30007\\u3000個花片，弟弟有\\u30005\\u3000個花片，兩人共有幾個花片？」哪一個是正確的算式和答案？\\u3000(Ａ)\\u30007－5＝2\\u3000(Ｂ)\\u30007＋5＝12\\u3000(Ｃ)\\u30007＋4＝12。',\n",
       "  'output': '答案：(Ｂ) 解析：7＋5＝12 ',\n",
       "  'difficulty': '易',\n",
       "  'chapter': '1-1_基本加法'},\n",
       " {'input': '(   )算式\\u300012＋8＝20\\u3000中，12\\u3000稱為\\u3000(Ａ)被加數\\u3000(Ｂ)加數\\u3000(Ｃ)和。',\n",
       "  'output': '答案：(Ａ) 解析：在加法算式中，加號前面的數字稱為被加數。 ',\n",
       "  'difficulty': '易',\n",
       "  'chapter': '1-1_基本加法'},\n",
       " {'input': '(   )算式\\u30009＋8＝17\\u3000中，8\\u3000稱為\\u3000(Ａ)被加數\\u3000(Ｂ)加數\\u3000(Ｃ)和。',\n",
       "  'output': '答案：(Ｂ) 解析：在加法算式中，加號後面的數字稱為加數。 ',\n",
       "  'difficulty': '易',\n",
       "  'chapter': '1-1_基本加法'},\n",
       " {'input': '(   )算式\\u30008＋6＝14\\u3000中，14\\u3000稱為\\u3000(Ａ)被加數\\u3000(Ｂ)加數\\u3000(Ｃ)和。',\n",
       "  'output': '答案：(Ｃ) 解析：在加法算式中，加法算式中的答案稱為和。 ',\n",
       "  'difficulty': '易',\n",
       "  'chapter': '1-1_基本加法'},\n",
       " {'input': '(   )算式\\u30009＋10＝□，□的正確答案是多少？\\u3000(Ａ)\\u30009\\u3000(Ｂ)\\u300010\\u3000(Ｃ)\\u300019。',\n",
       "  'output': '答案：(Ｃ) 解析：9＋10＝19 ',\n",
       "  'difficulty': '易',\n",
       "  'chapter': '1-1_基本加法'},\n",
       " {'input': '(   )荷葉上有\\u30005\\u3000隻青蛙，又跳來\\u300010\\u3000隻，荷葉上共有幾隻青蛙？題目和答案可以用哪一個算式表示？\\u3000(Ａ)\\u30005＋10＝10\\u3000(Ｂ)\\u300010＋5＝16\\u3000(Ｃ)\\u30005＋10＝15。',\n",
       "  'output': '答案：(Ｃ) ',\n",
       "  'difficulty': '易',\n",
       "  'chapter': '1-1_基本加法'},\n",
       " {'input': '(   )媽媽吃了\\u30008\\u3000個鍋貼，弟弟吃了\\u30006\\u3000個鍋貼，兩個人共吃了幾個鍋貼？題目和答案可以怎麼記？\\u3000(Ａ)\\u30009＋8＝17\\u3000(Ｂ)\\u30008＋6＝14\\u3000(Ｃ)\\u30009＋6＝15。',\n",
       "  'output': '答案：(Ｂ) ',\n",
       "  'difficulty': '中',\n",
       "  'chapter': '1-1_基本加法'},\n",
       " {'input': '(   )下列哪一個算式答案是錯的？\\u3000(Ａ)\\u30005＋6＝12\\u3000(Ｂ)\\u30008＋5＝13\\u3000(Ｃ)\\u30005＋9＝14。',\n",
       "  'output': '答案：(Ａ) 解析：5＋6＝11 ',\n",
       "  'difficulty': '易',\n",
       "  'chapter': '1-1_基本加法'},\n",
       " {'input': '(   )下面哪一個算式的答案和\\u300010＋8\\u3000相同？\\u3000(Ａ)\\u30008＋8\\u3000(Ｂ)\\u30009＋9\\u3000(Ｃ)\\u300010＋9。',\n",
       "  'output': '答案：(Ｂ) 解析：10＋8＝18，(Ａ)\\u30008＋8＝16，(Ｂ)\\u30009＋9＝18，(Ｃ)\\u300010＋9＝19 ',\n",
       "  'difficulty': '中',\n",
       "  'chapter': '1-1_基本加法'},\n",
       " {'input': '(   )下面算式中，哪一個和其他算式的答案不同？\\u3000(Ａ)\\u30008＋6\\u3000(Ｂ)\\u30009＋5\\u3000(Ｃ)\\u30005＋8。',\n",
       "  'output': '答案：(Ｃ) 解析：(Ａ)\\u30008＋6＝14，(Ｂ)\\u30009＋5＝14，(Ｃ)\\u30005＋8＝13 ',\n",
       "  'difficulty': '中',\n",
       "  'chapter': '1-1_基本加法'},\n",
       " {'input': '(   )下面哪一個算式的和最大？\\u3000(Ａ)\\u30006＋7\\u3000(Ｂ)\\u30007＋5\\u3000(Ｃ)\\u30008＋4。',\n",
       "  'output': '答案：(Ａ) 解析：(Ａ)\\u30006＋7＝13，(Ｂ)\\u30007＋5＝12，(Ｃ)\\u30008＋4＝12 ',\n",
       "  'difficulty': '難',\n",
       "  'chapter': '1-1_基本加法'},\n",
       " {'input': '(   )下面哪一個算式的和最小？\\u3000(Ａ)\\u30006＋7\\u3000(Ｂ)\\u30008＋4\\u3000(Ｃ)\\u30009＋2。',\n",
       "  'output': '答案：(Ｃ) 解析：(Ａ)\\u30006＋7＝13，(Ｂ)\\u30008＋4＝12，(Ｃ)\\u30009＋2＝11 ',\n",
       "  'difficulty': '難',\n",
       "  'chapter': '1-1_基本加法'},\n",
       " {'input': '(   )一盒餅乾有\\u300012\\u3000片，弟弟吃\\u30005\\u3000片，妹妹吃\\u30006\\u3000片，兩人共吃幾片餅乾？\\u3000(Ａ)\\u30005\\u3000片\\u3000(Ｂ)\\u30006\\u3000片\\u3000(Ｃ)\\u300011\\u3000片。',\n",
       "  'output': '答案：(Ｃ) 解析：5＋6＝11 ',\n",
       "  'difficulty': '中',\n",
       "  'chapter': '1-1_基本加法'},\n",
       " {'input': '(   )光彥有\\u300016\\u3000顆糖果，給了步美\\u300010\\u3000顆，又給了柯南\\u30006\\u3000顆，後來步美把自己的\\u30007\\u3000顆糖果送給柯南，柯南有幾顆糖果？\\u3000(Ａ)\\u300011\\u3000顆\\u3000(Ｂ)\\u300012\\u3000顆\\u3000(Ｃ)\\u300013\\u3000顆。',\n",
       "  'output': '答案：(Ｃ) 解析：理解題意問“柯南”，所以光彥給柯南\\u30006\\u3000顆，步美給柯南\\u30007\\u3000顆，6＋7＝13 ',\n",
       "  'difficulty': '難',\n",
       "  'chapter': '1-1_基本加法'},\n",
       " {'input': '(   )柯柯昨天得到\\u30002\\u3000點超商點數，今天拉著爸爸去超商買東西集點數，爸爸花了\\u300015\\u3000元得到\\u300010\\u3000點超商點數，柯柯和爸爸共有幾點超商點數？\\u3000(Ａ)\\u300012\\u3000點\\u3000(Ｂ)\\u300011\\u3000點\\u3000(Ｃ)\\u300010\\u3000點。',\n",
       "  'output': '答案：(Ａ) 解析：問點數，注意單位，2＋10＝12 ',\n",
       "  'difficulty': '中',\n",
       "  'chapter': '1-1_基本加法'},\n",
       " {'input': '(   )9＋3＝12\\u3000算式中，被加數、加數分別是多少？\\u3000(Ａ)被加數是\\u30009，加數是\\u30003\\u3000(Ｂ)被加數是\\u30009，加數是\\u300012\\u3000(Ｃ)被加數是\\u30003，加數是\\u300012。',\n",
       "  'output': '答案：(Ａ) 解析：熟悉被加數、加數、和三者在算式中的位置  ',\n",
       "  'difficulty': '中',\n",
       "  'chapter': '1-1_基本加法'},\n",
       " {'input': '(   )熊大和兔兔在公園撿松果，熊大撿了\\u300010\\u3000顆，兔兔也撿了\\u30006\\u3000顆，熊大和兔兔兩人共撿了幾顆松果？\\u3000(Ａ)\\u300014\\u3000顆\\u3000(Ｂ)\\u300016\\u3000顆\\u3000(Ｃ)\\u300018\\u3000顆。',\n",
       "  'output': '答案：(Ｂ) 解析：10＋6＝16 ',\n",
       "  'difficulty': '易',\n",
       "  'chapter': '1-1_基本加法'},\n",
       " {'input': '(   )平平早上做了\\u30006\\u3000把扇子，下午做了\\u30008\\u3000把扇子，平平這一天共做了幾把扇子？\\u3000(Ａ)\\u30002\\u3000把\\u3000(Ｂ)\\u300012\\u3000把\\u3000(Ｃ)\\u300014\\u3000把。',\n",
       "  'output': '答案：(Ｃ) 解析：6＋8＝14 ',\n",
       "  'difficulty': '易',\n",
       "  'chapter': '1-1_基本加法'},\n",
       " {'input': '(   )小明到夜市玩棒球九宮格的遊戲，第一球投中了\\u30004\\u3000分，第二球投中了\\u30009\\u3000分，小明一共投中了幾分？\\u3000(Ａ)\\u300013\\u3000分\\u3000(Ｂ)\\u300014\\u3000分\\u3000(Ｃ)\\u300015\\u3000分。',\n",
       "  'output': '答案：(Ａ) 解析：4＋9＝13 ',\n",
       "  'difficulty': '中',\n",
       "  'chapter': '1-1_基本加法'}]"
      ]
     },
     "execution_count": 11,
     "metadata": {},
     "output_type": "execute_result"
    }
   ],
   "source": [
    "from docx import Document\n",
    "\n",
    "def generate_dataset(file_path):\n",
    "    print(file_path)\n",
    "    doc = Document(file_path)\n",
    "    #print('段落數量： ', len(doc.paragraphs))\n",
    "    idx = 0\n",
    "    dataset = []\n",
    "    chapter = doc.paragraphs[2].text\n",
    "    while idx < len(doc.paragraphs):\n",
    "        \n",
    "        if doc.paragraphs[idx].text[:3] != \"編號：\": \n",
    "            idx += 1\n",
    "            continue\n",
    "        question = {}\n",
    "        input, output, difficulty = \"\", \"\", doc.paragraphs[idx].text.split(\"難易度：\")[-1]\n",
    "        idx += 1\n",
    "        while idx < len(doc.paragraphs) and doc.paragraphs[idx].text[:3] != \"答案：\":\n",
    "            input += doc.paragraphs[idx].text\n",
    "            idx += 1\n",
    "        while idx < len(doc.paragraphs) and doc.paragraphs[idx].text[:5] != \"認知向度：\":\n",
    "            output += doc.paragraphs[idx].text + \" \"\n",
    "            idx += 1\n",
    "        question[\"input\"] = input\n",
    "        question[\"output\"] = output\n",
    "        question[\"difficulty\"] = difficulty\n",
    "        question[\"chapter\"] = chapter\n",
    "        dataset.append(question)\n",
    "        \n",
    "    return dataset\n",
    "\n",
    "generate_dataset(\"E:\\\\HanlinMath\\\\ElementarySchool\\\\grade1_2\\\\1_1.docx\")"
   ]
  },
  {
   "cell_type": "code",
   "execution_count": 12,
   "metadata": {},
   "outputs": [],
   "source": [
    "import csv\n",
    "def write_csv(datasets, file_path):\n",
    "    with open(file_path, 'w+', encoding='utf-8') as f:\n",
    "        fieldnames = ['input', 'output', 'difficulty', 'chapter']\n",
    "        writer = csv.DictWriter(f, fieldnames=fieldnames)\n",
    "        writer.writeheader()\n",
    "        for dataset in datasets:\n",
    "            for data in dataset:\n",
    "                writer.writerow(data)\n",
    "    print('Save data in ' + file_path)"
   ]
  },
  {
   "cell_type": "code",
   "execution_count": 13,
   "metadata": {},
   "outputs": [
    {
     "name": "stdout",
     "output_type": "stream",
     "text": [
      "E:\\HanlinMath\\ElementarySchool\\grade1_1\\3_1.docx\n",
      "E:\\HanlinMath\\ElementarySchool\\grade1_1\\3_2.docx\n",
      "E:\\HanlinMath\\ElementarySchool\\grade1_1\\3_3.docx\n",
      "E:\\HanlinMath\\ElementarySchool\\grade1_1\\4_4.docx\n",
      "E:\\HanlinMath\\ElementarySchool\\grade1_1\\6_1.docx\n",
      "E:\\HanlinMath\\ElementarySchool\\grade1_1\\6_3.docx\n",
      "E:\\HanlinMath\\ElementarySchool\\grade1_1\\7_1.docx\n",
      "E:\\HanlinMath\\ElementarySchool\\grade1_1\\7_2.docx\n",
      "E:\\HanlinMath\\ElementarySchool\\grade1_1\\7_3.docx\n",
      "E:\\HanlinMath\\ElementarySchool\\grade1_1\\7_4.docx\n",
      "E:\\HanlinMath\\ElementarySchool\\grade1_1\\8_2.docx\n",
      "E:\\HanlinMath\\ElementarySchool\\grade1_1\\8_4.docx\n",
      "E:\\HanlinMath\\ElementarySchool\\grade1_1\\9_1.docx\n",
      "Save data in dataset\\grade1_1.csv\n"
     ]
    }
   ],
   "source": [
    "file_path = 'E:\\\\HanlinMath\\\\ElementarySchool\\\\grade1_1'\n",
    "files = list_files(file_path)\n",
    "datasets = []\n",
    "for file in files:\n",
    "    datasets.append(generate_dataset(file))\n",
    "\n",
    "save_path = 'dataset\\\\' + file_path.split('\\\\')[-1] + '.csv'\n",
    "write_csv(datasets, save_path)"
   ]
  },
  {
   "cell_type": "code",
   "execution_count": 15,
   "metadata": {},
   "outputs": [],
   "source": [
    "from langsmith import Client\n",
    "client = Client()\n",
    "file = \"grade1_1\"\n",
    "\n",
    "dataset = client.upload_csv(\n",
    "    csv_file = f\"dataset\\\\{file}.csv\",\n",
    "    input_keys = ['input', 'chapter', 'difficulty'],\n",
    "    output_keys = ['output'],\n",
    "    name = file,\n",
    "    description = f\"Hanlin Math of {file}\",\n",
    "    data_type = \"kv\"\n",
    ")"
   ]
  },
  {
   "cell_type": "code",
   "execution_count": 25,
   "metadata": {},
   "outputs": [],
   "source": [
    "import langsmith\n",
    "from langchain import smith\n",
    "from langchain_openai import ChatOpenAI\n",
    "from src.dependencies.settings import get_settings\n",
    "from src.service.math_solver import MathSolver\n",
    "\n",
    "# Define your runnable or chain below.\n",
    "math_solver = MathSolver(model=\"gpt-4-1106-preview\", temperature=0)\n",
    "\n",
    "# Define the evaluators to apply\n",
    "eval_config = smith.RunEvalConfig(\n",
    "    evaluators=[\n",
    "        \"cot_qa\",\n",
    "        smith.RunEvalConfig.LabeledCriteria(\"helpfulness\"),\n",
    "        smith.RunEvalConfig.LabeledCriteria(\"conciseness\")\n",
    "    ],\n",
    "    custom_evaluators=[],\n",
    "    eval_llm = ChatOpenAI(model=\"gpt-3.5-turbo\", \n",
    "        temperature=0, \n",
    "        openai_api_key=get_settings().gpt_secret_key\n",
    "    )\n",
    ")\n",
    "\n",
    "client = langsmith.Client()\n",
    "\n",
    "def run(dataset):\n",
    "    return client.run_on_dataset(\n",
    "        dataset_name=dataset,\n",
    "        llm_or_chain_factory=math_solver.agent,\n",
    "        evaluation=eval_config,\n",
    "        project_name=\"QSticker Math APP evaluation\",\n",
    "        concurrency_level=5,\n",
    "        verbose=True,\n",
    "    )"
   ]
  },
  {
   "cell_type": "code",
   "execution_count": 34,
   "metadata": {},
   "outputs": [],
   "source": [
    "from langsmith.evaluation import LangChainStringEvaluator, evaluate\n",
    "math_solver = MathSolver(model=\"gpt-4-1106-preview\", temperature=0)\n",
    "eval_llm = ChatOpenAI(model=\"gpt-3.5-turbo\", \n",
    "    temperature=0, \n",
    "    openai_api_key=get_settings().gpt_secret_key\n",
    ")\n",
    "qa_evaluator = LangChainStringEvaluator(\n",
    "    \"qa\", \n",
    "    config={\"llm\": eval_llm},\n",
    "    prepare_data=lambda run, example: {\n",
    "        \"prediction\": run.outputs[\"output\"],\n",
    "        \"reference\": example.outputs[\"output\"],\n",
    "        \"input\": example.inputs[\"input\"],\n",
    "    }\n",
    ")  \n",
    "context_qa_evaluator = LangChainStringEvaluator(\n",
    "    \"context_qa\", \n",
    "    config={\"llm\": eval_llm},\n",
    "    prepare_data=lambda run, example: {\n",
    "        \"prediction\": run.outputs[\"output\"],\n",
    "        \"reference\": example.outputs[\"output\"],\n",
    "        \"input\": example.inputs[\"input\"],\n",
    "    }\n",
    ")\n",
    "cot_qa_evaluator = LangChainStringEvaluator(\n",
    "    \"cot_qa\", \n",
    "    config={\"llm\": eval_llm},\n",
    "    prepare_data=lambda run, example: {\n",
    "        \"prediction\": run.outputs[\"output\"],\n",
    "        \"reference\": example.outputs[\"output\"],\n",
    "        \"input\": example.inputs[\"input\"],\n",
    "    }\n",
    ")\n",
    "\n",
    "def run_evaluate(dataset):\n",
    "    return evaluate(\n",
    "        lambda x: math_solver.agent.invoke(x),\n",
    "        data=dataset,\n",
    "        evaluators = [qa_evaluator, context_qa_evaluator, cot_qa_evaluator],\n",
    "        experiment_prefix=\"Hanlin Math Elementary \" + dataset,\n",
    "    )"
   ]
  },
  {
   "cell_type": "code",
   "execution_count": 35,
   "metadata": {},
   "outputs": [
    {
     "name": "stdout",
     "output_type": "stream",
     "text": [
      "View the evaluation results for experiment: 'Hanlin Math Elementary grade1_1-73745275' at:\n",
      "https://smith.langchain.com/o/0c9779fc-55de-54eb-b86b-a76ff39ff60c/datasets/a9ddf5d7-9c9e-4584-a7cc-272e9de7d6a8/compare?selectedSessions=0b8502a1-cf24-4e48-9179-06371dc789a4\n",
      "\n",
      "\n"
     ]
    },
    {
     "name": "stderr",
     "output_type": "stream",
     "text": [
      "0it [00:00, ?it/s]Error running target function: unknown format from LLM: The `numexpr` library in Python is not designed to sort numbers. It is used for fast numerical evaluations of array expressions, mainly arithmetic operations. Sorting is typically done using Python's built-in functions like `sorted()` or methods like `.sort()` for lists.\n",
      "\n",
      "However, if you want to sort the numbers 29, 7, and 12 using Python (not specifically with `numexpr`), you can do it like this:\n",
      "\n",
      "```python\n",
      "sorted([29, 7, 12])\n",
      "```\n",
      "\n",
      "This will give you the sorted list `[7, 12, 29]`. If you need to use `numexpr` for some reason, you would have to sort the numbers outside of the `numexpr.evaluate()` call.\n",
      "Error running target function: Got unsupported early_stopping_method `generate`\n",
      "Error running target function: Got unsupported early_stopping_method `generate`\n",
      "54it [04:07,  4.58s/it]\n"
     ]
    },
    {
     "data": {
      "text/plain": [
       "<ExperimentResults Hanlin Math Elementary grade1_1-73745275>"
      ]
     },
     "execution_count": 35,
     "metadata": {},
     "output_type": "execute_result"
    }
   ],
   "source": [
    "run_evaluate(\"grade1_1\")"
   ]
  },
  {
   "cell_type": "code",
   "execution_count": null,
   "metadata": {},
   "outputs": [],
   "source": []
  }
 ],
 "metadata": {
  "kernelspec": {
   "display_name": "gpt_server",
   "language": "python",
   "name": "python3"
  },
  "language_info": {
   "codemirror_mode": {
    "name": "ipython",
    "version": 3
   },
   "file_extension": ".py",
   "mimetype": "text/x-python",
   "name": "python",
   "nbconvert_exporter": "python",
   "pygments_lexer": "ipython3",
   "version": "3.12.3"
  }
 },
 "nbformat": 4,
 "nbformat_minor": 2
}
