{
 "cells": [
  {
   "cell_type": "markdown",
   "metadata": {},
   "source": [
    "# Experiment Script"
   ]
  },
  {
   "cell_type": "markdown",
   "metadata": {},
   "source": [
    "## Experiment 1: Accuracy test"
   ]
  },
  {
   "cell_type": "markdown",
   "metadata": {},
   "source": [
    "### 將翰林題庫由 word 轉 csv"
   ]
  },
  {
   "cell_type": "code",
   "execution_count": 1,
   "metadata": {},
   "outputs": [
    {
     "data": {
      "text/plain": [
       "['E:\\\\HanlinMath\\\\ElementarySchool\\\\grade1_1\\\\3_1.docx',\n",
       " 'E:\\\\HanlinMath\\\\ElementarySchool\\\\grade1_1\\\\3_2.docx',\n",
       " 'E:\\\\HanlinMath\\\\ElementarySchool\\\\grade1_1\\\\3_3.docx',\n",
       " 'E:\\\\HanlinMath\\\\ElementarySchool\\\\grade1_1\\\\4_4.docx',\n",
       " 'E:\\\\HanlinMath\\\\ElementarySchool\\\\grade1_1\\\\6_1.docx',\n",
       " 'E:\\\\HanlinMath\\\\ElementarySchool\\\\grade1_1\\\\6_3.docx',\n",
       " 'E:\\\\HanlinMath\\\\ElementarySchool\\\\grade1_1\\\\7_1.docx',\n",
       " 'E:\\\\HanlinMath\\\\ElementarySchool\\\\grade1_1\\\\7_2.docx',\n",
       " 'E:\\\\HanlinMath\\\\ElementarySchool\\\\grade1_1\\\\7_3.docx',\n",
       " 'E:\\\\HanlinMath\\\\ElementarySchool\\\\grade1_1\\\\7_4.docx',\n",
       " 'E:\\\\HanlinMath\\\\ElementarySchool\\\\grade1_1\\\\8_2.docx',\n",
       " 'E:\\\\HanlinMath\\\\ElementarySchool\\\\grade1_1\\\\8_4.docx',\n",
       " 'E:\\\\HanlinMath\\\\ElementarySchool\\\\grade1_1\\\\9_1.docx']"
      ]
     },
     "execution_count": 1,
     "metadata": {},
     "output_type": "execute_result"
    }
   ],
   "source": [
    "import os\n",
    "def list_files(directory):\n",
    "    ret = []\n",
    "    for root, dirs, files in os.walk(directory):\n",
    "        for file in files:\n",
    "            #print(os.path.join(root, file))\n",
    "            ret.append(os.path.join(root, file))\n",
    "    return ret\n",
    "list_files('E:\\\\HanlinMath\\\\ElementarySchool\\\\grade1_1')"
   ]
  },
  {
   "cell_type": "markdown",
   "metadata": {},
   "source": [
    "#### docx -> dict"
   ]
  },
  {
   "cell_type": "code",
   "execution_count": 2,
   "metadata": {},
   "outputs": [
    {
     "name": "stdout",
     "output_type": "stream",
     "text": [
      "E:\\HanlinMath\\ElementarySchool\\grade1_2\\1_1.docx\n"
     ]
    },
    {
     "data": {
      "text/plain": [
       "[{'input': '(   )算算看，哪一個答案不是\\u300015？\\u3000(Ａ)\\u30009＋6\\u3000(Ｂ)\\u30008＋7\\u3000(Ｃ)\\u30006＋8。',\n",
       "  'output': '答案：(Ｃ) 解析：(Ａ)\\u30009＋6＝15；(Ｂ)\\u30008＋7＝15；(Ｃ)\\u30006＋8＝14 ',\n",
       "  'difficulty': '中',\n",
       "  'chapter': '1-1_基本加法'},\n",
       " {'input': '(   )包子店上午賣出\\u30005\\u3000個高麗菜包，下午賣出\\u30009\\u3000個高麗菜包，包子店共賣出幾個高麗菜包？\\u3000(Ａ)\\u300012\\u3000個\\u3000(Ｂ)\\u300013\\u3000個\\u3000(Ｃ)\\u300014\\u3000個。',\n",
       "  'output': '答案：(Ｃ) 解析：5＋9＝14 ',\n",
       "  'difficulty': '易',\n",
       "  'chapter': '1-1_基本加法'},\n",
       " {'input': '(   )籃子裡有\\u30005\\u3000顆綠球和\\u30007\\u3000顆黃球，籃子裡共有幾顆球？\\u3000(Ａ)\\u300013\\u3000顆\\u3000(Ｂ)\\u300012\\u3000顆\\u3000(Ｃ)\\u300011\\u3000顆。',\n",
       "  'output': '答案：(Ｂ) 解析：5＋7＝12 ',\n",
       "  'difficulty': '易',\n",
       "  'chapter': '1-1_基本加法'},\n",
       " {'input': '(   )操場上原有\\u30009\\u3000個小朋友，又來\\u30006\\u3000個小朋友，操場上現在共有幾個小朋友？\\u3000(Ａ)\\u300015\\u3000個\\u3000(Ｂ)\\u300016\\u3000個\\u3000(Ｃ)\\u300017\\u3000個。',\n",
       "  'output': '答案：(Ａ) 解析：9＋6＝15 ',\n",
       "  'difficulty': '易',\n",
       "  'chapter': '1-1_基本加法'},\n",
       " {'input': '(   )書桌上有\\u300010\\u3000本名人傳記和\\u30006\\u3000本科學小百科，書桌上一共有幾本書？\\u3000(Ａ)\\u300015\\u3000本\\u3000(Ｂ)\\u300016\\u3000本\\u3000(Ｃ)\\u300017\\u3000本。',\n",
       "  'output': '答案：(Ｂ) 解析：10＋6＝16 ',\n",
       "  'difficulty': '易',\n",
       "  'chapter': '1-1_基本加法'},\n",
       " {'input': '(   )「哥哥有\\u30007\\u3000個花片，弟弟有\\u30005\\u3000個花片，兩人共有幾個花片？」哪一個是正確的算式和答案？\\u3000(Ａ)\\u30007－5＝2\\u3000(Ｂ)\\u30007＋5＝12\\u3000(Ｃ)\\u30007＋4＝12。',\n",
       "  'output': '答案：(Ｂ) 解析：7＋5＝12 ',\n",
       "  'difficulty': '易',\n",
       "  'chapter': '1-1_基本加法'},\n",
       " {'input': '(   )算式\\u300012＋8＝20\\u3000中，12\\u3000稱為\\u3000(Ａ)被加數\\u3000(Ｂ)加數\\u3000(Ｃ)和。',\n",
       "  'output': '答案：(Ａ) 解析：在加法算式中，加號前面的數字稱為被加數。 ',\n",
       "  'difficulty': '易',\n",
       "  'chapter': '1-1_基本加法'},\n",
       " {'input': '(   )算式\\u30009＋8＝17\\u3000中，8\\u3000稱為\\u3000(Ａ)被加數\\u3000(Ｂ)加數\\u3000(Ｃ)和。',\n",
       "  'output': '答案：(Ｂ) 解析：在加法算式中，加號後面的數字稱為加數。 ',\n",
       "  'difficulty': '易',\n",
       "  'chapter': '1-1_基本加法'},\n",
       " {'input': '(   )算式\\u30008＋6＝14\\u3000中，14\\u3000稱為\\u3000(Ａ)被加數\\u3000(Ｂ)加數\\u3000(Ｃ)和。',\n",
       "  'output': '答案：(Ｃ) 解析：在加法算式中，加法算式中的答案稱為和。 ',\n",
       "  'difficulty': '易',\n",
       "  'chapter': '1-1_基本加法'},\n",
       " {'input': '(   )算式\\u30009＋10＝□，□的正確答案是多少？\\u3000(Ａ)\\u30009\\u3000(Ｂ)\\u300010\\u3000(Ｃ)\\u300019。',\n",
       "  'output': '答案：(Ｃ) 解析：9＋10＝19 ',\n",
       "  'difficulty': '易',\n",
       "  'chapter': '1-1_基本加法'},\n",
       " {'input': '(   )荷葉上有\\u30005\\u3000隻青蛙，又跳來\\u300010\\u3000隻，荷葉上共有幾隻青蛙？題目和答案可以用哪一個算式表示？\\u3000(Ａ)\\u30005＋10＝10\\u3000(Ｂ)\\u300010＋5＝16\\u3000(Ｃ)\\u30005＋10＝15。',\n",
       "  'output': '答案：(Ｃ) ',\n",
       "  'difficulty': '易',\n",
       "  'chapter': '1-1_基本加法'},\n",
       " {'input': '(   )媽媽吃了\\u30008\\u3000個鍋貼，弟弟吃了\\u30006\\u3000個鍋貼，兩個人共吃了幾個鍋貼？題目和答案可以怎麼記？\\u3000(Ａ)\\u30009＋8＝17\\u3000(Ｂ)\\u30008＋6＝14\\u3000(Ｃ)\\u30009＋6＝15。',\n",
       "  'output': '答案：(Ｂ) ',\n",
       "  'difficulty': '中',\n",
       "  'chapter': '1-1_基本加法'},\n",
       " {'input': '(   )下列哪一個算式答案是錯的？\\u3000(Ａ)\\u30005＋6＝12\\u3000(Ｂ)\\u30008＋5＝13\\u3000(Ｃ)\\u30005＋9＝14。',\n",
       "  'output': '答案：(Ａ) 解析：5＋6＝11 ',\n",
       "  'difficulty': '易',\n",
       "  'chapter': '1-1_基本加法'},\n",
       " {'input': '(   )下面哪一個算式的答案和\\u300010＋8\\u3000相同？\\u3000(Ａ)\\u30008＋8\\u3000(Ｂ)\\u30009＋9\\u3000(Ｃ)\\u300010＋9。',\n",
       "  'output': '答案：(Ｂ) 解析：10＋8＝18，(Ａ)\\u30008＋8＝16，(Ｂ)\\u30009＋9＝18，(Ｃ)\\u300010＋9＝19 ',\n",
       "  'difficulty': '中',\n",
       "  'chapter': '1-1_基本加法'},\n",
       " {'input': '(   )下面算式中，哪一個和其他算式的答案不同？\\u3000(Ａ)\\u30008＋6\\u3000(Ｂ)\\u30009＋5\\u3000(Ｃ)\\u30005＋8。',\n",
       "  'output': '答案：(Ｃ) 解析：(Ａ)\\u30008＋6＝14，(Ｂ)\\u30009＋5＝14，(Ｃ)\\u30005＋8＝13 ',\n",
       "  'difficulty': '中',\n",
       "  'chapter': '1-1_基本加法'},\n",
       " {'input': '(   )下面哪一個算式的和最大？\\u3000(Ａ)\\u30006＋7\\u3000(Ｂ)\\u30007＋5\\u3000(Ｃ)\\u30008＋4。',\n",
       "  'output': '答案：(Ａ) 解析：(Ａ)\\u30006＋7＝13，(Ｂ)\\u30007＋5＝12，(Ｃ)\\u30008＋4＝12 ',\n",
       "  'difficulty': '難',\n",
       "  'chapter': '1-1_基本加法'},\n",
       " {'input': '(   )下面哪一個算式的和最小？\\u3000(Ａ)\\u30006＋7\\u3000(Ｂ)\\u30008＋4\\u3000(Ｃ)\\u30009＋2。',\n",
       "  'output': '答案：(Ｃ) 解析：(Ａ)\\u30006＋7＝13，(Ｂ)\\u30008＋4＝12，(Ｃ)\\u30009＋2＝11 ',\n",
       "  'difficulty': '難',\n",
       "  'chapter': '1-1_基本加法'},\n",
       " {'input': '(   )一盒餅乾有\\u300012\\u3000片，弟弟吃\\u30005\\u3000片，妹妹吃\\u30006\\u3000片，兩人共吃幾片餅乾？\\u3000(Ａ)\\u30005\\u3000片\\u3000(Ｂ)\\u30006\\u3000片\\u3000(Ｃ)\\u300011\\u3000片。',\n",
       "  'output': '答案：(Ｃ) 解析：5＋6＝11 ',\n",
       "  'difficulty': '中',\n",
       "  'chapter': '1-1_基本加法'},\n",
       " {'input': '(   )光彥有\\u300016\\u3000顆糖果，給了步美\\u300010\\u3000顆，又給了柯南\\u30006\\u3000顆，後來步美把自己的\\u30007\\u3000顆糖果送給柯南，柯南有幾顆糖果？\\u3000(Ａ)\\u300011\\u3000顆\\u3000(Ｂ)\\u300012\\u3000顆\\u3000(Ｃ)\\u300013\\u3000顆。',\n",
       "  'output': '答案：(Ｃ) 解析：理解題意問“柯南”，所以光彥給柯南\\u30006\\u3000顆，步美給柯南\\u30007\\u3000顆，6＋7＝13 ',\n",
       "  'difficulty': '難',\n",
       "  'chapter': '1-1_基本加法'},\n",
       " {'input': '(   )柯柯昨天得到\\u30002\\u3000點超商點數，今天拉著爸爸去超商買東西集點數，爸爸花了\\u300015\\u3000元得到\\u300010\\u3000點超商點數，柯柯和爸爸共有幾點超商點數？\\u3000(Ａ)\\u300012\\u3000點\\u3000(Ｂ)\\u300011\\u3000點\\u3000(Ｃ)\\u300010\\u3000點。',\n",
       "  'output': '答案：(Ａ) 解析：問點數，注意單位，2＋10＝12 ',\n",
       "  'difficulty': '中',\n",
       "  'chapter': '1-1_基本加法'},\n",
       " {'input': '(   )9＋3＝12\\u3000算式中，被加數、加數分別是多少？\\u3000(Ａ)被加數是\\u30009，加數是\\u30003\\u3000(Ｂ)被加數是\\u30009，加數是\\u300012\\u3000(Ｃ)被加數是\\u30003，加數是\\u300012。',\n",
       "  'output': '答案：(Ａ) 解析：熟悉被加數、加數、和三者在算式中的位置  ',\n",
       "  'difficulty': '中',\n",
       "  'chapter': '1-1_基本加法'},\n",
       " {'input': '(   )熊大和兔兔在公園撿松果，熊大撿了\\u300010\\u3000顆，兔兔也撿了\\u30006\\u3000顆，熊大和兔兔兩人共撿了幾顆松果？\\u3000(Ａ)\\u300014\\u3000顆\\u3000(Ｂ)\\u300016\\u3000顆\\u3000(Ｃ)\\u300018\\u3000顆。',\n",
       "  'output': '答案：(Ｂ) 解析：10＋6＝16 ',\n",
       "  'difficulty': '易',\n",
       "  'chapter': '1-1_基本加法'},\n",
       " {'input': '(   )平平早上做了\\u30006\\u3000把扇子，下午做了\\u30008\\u3000把扇子，平平這一天共做了幾把扇子？\\u3000(Ａ)\\u30002\\u3000把\\u3000(Ｂ)\\u300012\\u3000把\\u3000(Ｃ)\\u300014\\u3000把。',\n",
       "  'output': '答案：(Ｃ) 解析：6＋8＝14 ',\n",
       "  'difficulty': '易',\n",
       "  'chapter': '1-1_基本加法'},\n",
       " {'input': '(   )小明到夜市玩棒球九宮格的遊戲，第一球投中了\\u30004\\u3000分，第二球投中了\\u30009\\u3000分，小明一共投中了幾分？\\u3000(Ａ)\\u300013\\u3000分\\u3000(Ｂ)\\u300014\\u3000分\\u3000(Ｃ)\\u300015\\u3000分。',\n",
       "  'output': '答案：(Ａ) 解析：4＋9＝13 ',\n",
       "  'difficulty': '中',\n",
       "  'chapter': '1-1_基本加法'}]"
      ]
     },
     "execution_count": 2,
     "metadata": {},
     "output_type": "execute_result"
    }
   ],
   "source": [
    "from docx import Document\n",
    "\n",
    "def generate_dataset(file_path):\n",
    "    print(file_path)\n",
    "    doc = Document(file_path)\n",
    "    #print('段落數量： ', len(doc.paragraphs))\n",
    "    idx = 0\n",
    "    dataset = []\n",
    "    chapter = doc.paragraphs[2].text\n",
    "    while idx < len(doc.paragraphs):\n",
    "        \n",
    "        if doc.paragraphs[idx].text[:3] != \"編號：\": \n",
    "            idx += 1\n",
    "            continue\n",
    "        question = {}\n",
    "        input, output, difficulty = \"\", \"\", doc.paragraphs[idx].text.split(\"難易度：\")[-1]\n",
    "        idx += 1\n",
    "        while idx < len(doc.paragraphs) and doc.paragraphs[idx].text[:3] != \"答案：\":\n",
    "            input += doc.paragraphs[idx].text\n",
    "            idx += 1\n",
    "        while idx < len(doc.paragraphs) and doc.paragraphs[idx].text[:5] != \"認知向度：\":\n",
    "            output += doc.paragraphs[idx].text + \" \"\n",
    "            idx += 1\n",
    "        question[\"input\"] = input\n",
    "        question[\"output\"] = output\n",
    "        question[\"difficulty\"] = difficulty\n",
    "        question[\"chapter\"] = chapter\n",
    "        dataset.append(question)\n",
    "        \n",
    "    return dataset\n",
    "\n",
    "generate_dataset(\"E:\\\\HanlinMath\\\\ElementarySchool\\\\grade1_2\\\\1_1.docx\")"
   ]
  },
  {
   "cell_type": "markdown",
   "metadata": {},
   "source": [
    "#### dict -> csv"
   ]
  },
  {
   "cell_type": "code",
   "execution_count": 3,
   "metadata": {},
   "outputs": [],
   "source": [
    "import csv\n",
    "def write_csv(datasets, file_path):\n",
    "    with open(file_path, 'w+', encoding='utf-8', newline='') as f:\n",
    "        fieldnames = ['input', 'output', 'difficulty', 'chapter']\n",
    "        writer = csv.DictWriter(f, fieldnames=fieldnames)\n",
    "        writer.writeheader()\n",
    "        for dataset in datasets:\n",
    "            for data in dataset:\n",
    "                writer.writerow(data)\n",
    "    print('Save data in ' + file_path)"
   ]
  },
  {
   "cell_type": "code",
   "execution_count": 4,
   "metadata": {},
   "outputs": [
    {
     "name": "stdout",
     "output_type": "stream",
     "text": [
      "E:\\HanlinMath\\ElementarySchool\\grade3_2\\1-1.docx\n",
      "E:\\HanlinMath\\ElementarySchool\\grade3_2\\1-2.docx\n",
      "E:\\HanlinMath\\ElementarySchool\\grade3_2\\2-1.docx\n",
      "E:\\HanlinMath\\ElementarySchool\\grade3_2\\2-2.docx\n",
      "E:\\HanlinMath\\ElementarySchool\\grade3_2\\2-3.docx\n",
      "E:\\HanlinMath\\ElementarySchool\\grade3_2\\2-4.docx\n",
      "E:\\HanlinMath\\ElementarySchool\\grade3_2\\4-1.docx\n",
      "E:\\HanlinMath\\ElementarySchool\\grade3_2\\4-2.docx\n",
      "E:\\HanlinMath\\ElementarySchool\\grade3_2\\5-1.docx\n",
      "E:\\HanlinMath\\ElementarySchool\\grade3_2\\5-2.docx\n",
      "E:\\HanlinMath\\ElementarySchool\\grade3_2\\6-1.docx\n",
      "E:\\HanlinMath\\ElementarySchool\\grade3_2\\6-2.docx\n",
      "E:\\HanlinMath\\ElementarySchool\\grade3_2\\6-3.docx\n",
      "E:\\HanlinMath\\ElementarySchool\\grade3_2\\7-1.docx\n",
      "E:\\HanlinMath\\ElementarySchool\\grade3_2\\7-2.docx\n",
      "E:\\HanlinMath\\ElementarySchool\\grade3_2\\7-3.docx\n",
      "E:\\HanlinMath\\ElementarySchool\\grade3_2\\7-4.docx\n",
      "E:\\HanlinMath\\ElementarySchool\\grade3_2\\8-1.docx\n",
      "E:\\HanlinMath\\ElementarySchool\\grade3_2\\8-2.docx\n",
      "E:\\HanlinMath\\ElementarySchool\\grade3_2\\9-1.docx\n",
      "E:\\HanlinMath\\ElementarySchool\\grade3_2\\9-2.docx\n",
      "E:\\HanlinMath\\ElementarySchool\\grade3_2\\9-3.docx\n",
      "Save data in dataset\\grade3_2.csv\n"
     ]
    }
   ],
   "source": [
    "file_path = 'E:\\\\HanlinMath\\\\ElementarySchool\\\\grade3_2'\n",
    "files = list_files(file_path)\n",
    "datasets = []\n",
    "for file in files:\n",
    "    datasets.append(generate_dataset(file))\n",
    "\n",
    "save_path = 'dataset\\\\' + file_path.split('\\\\')[-1] + '.csv'\n",
    "write_csv(datasets, save_path)"
   ]
  },
  {
   "cell_type": "markdown",
   "metadata": {},
   "source": [
    "### LangSmith Evaluation"
   ]
  },
  {
   "cell_type": "code",
   "execution_count": null,
   "metadata": {},
   "outputs": [],
   "source": [
    "from langsmith import Client\n",
    "client = Client()\n",
    "file = \"grade2_2\"\n",
    "\n",
    "dataset = client.upload_csv(\n",
    "    csv_file = f\"dataset\\\\{file}.csv\",\n",
    "    input_keys = ['input', 'chapter', 'difficulty'],\n",
    "    output_keys = ['output'],\n",
    "    name = file,\n",
    "    description = f\"Hanlin Math of {file}\",\n",
    "    data_type = \"kv\"\n",
    ")"
   ]
  },
  {
   "cell_type": "markdown",
   "metadata": {},
   "source": [
    "#### old version"
   ]
  },
  {
   "cell_type": "code",
   "execution_count": null,
   "metadata": {},
   "outputs": [
    {
     "name": "stderr",
     "output_type": "stream",
     "text": [
      "c:\\Users\\123\\OneDrive\\Documents\\GitHub\\qsticker_gpt_server\\gpt_server\\Lib\\site-packages\\langchain_core\\_api\\deprecation.py:119: LangChainDeprecationWarning: The class `LLMChain` was deprecated in LangChain 0.1.17 and will be removed in 0.3.0. Use RunnableSequence, e.g., `prompt | llm` instead.\n",
      "  warn_deprecated(\n"
     ]
    }
   ],
   "source": [
    "import langsmith\n",
    "from langchain import smith\n",
    "from langchain_openai import ChatOpenAI\n",
    "from src.dependencies.settings import get_settings\n",
    "from src.service.math_solver import MathSolver\n",
    "\n",
    "# Define your runnable or chain below.\n",
    "math_solver = MathSolver(model=\"gpt-4-1106-preview\", temperature=0)\n",
    "\n",
    "# Define the evaluators to apply\n",
    "eval_config = smith.RunEvalConfig(\n",
    "    evaluators=[\n",
    "        \"qa\",\n",
    "        \"context_qa\",\n",
    "        \"cot_qa\",\n",
    "#        smith.RunEvalConfig.LabeledCriteria(\"helpfulness\"),\n",
    "#        smith.RunEvalConfig.LabeledCriteria(\"conciseness\")\n",
    "    ],\n",
    "    custom_evaluators=[],\n",
    "    eval_llm = ChatOpenAI(model=\"gpt-3.5-turbo\", \n",
    "        temperature=0, \n",
    "        openai_api_key=get_settings().gpt_secret_key\n",
    "    )\n",
    ")\n",
    "\n",
    "client = langsmith.Client()\n",
    "\n",
    "def run(dataset):\n",
    "    return client.run_on_dataset(\n",
    "        dataset_name=dataset,\n",
    "        llm_or_chain_factory=math_solver.agent,\n",
    "        evaluation=eval_config,\n",
    "        project_name=\"QSticker Math APP evaluation\",\n",
    "        concurrency_level=3,\n",
    "        verbose=True,\n",
    "    )"
   ]
  },
  {
   "cell_type": "markdown",
   "metadata": {},
   "source": [
    "#### new version"
   ]
  },
  {
   "cell_type": "code",
   "execution_count": null,
   "metadata": {},
   "outputs": [],
   "source": [
    "from langsmith.evaluation import LangChainStringEvaluator, evaluate\n",
    "math_solver = MathSolver(model=\"gpt-4-1106-preview\", temperature=0)\n",
    "eval_llm = ChatOpenAI(model=\"gpt-3.5-turbo\", \n",
    "    temperature=0, \n",
    "    openai_api_key=get_settings().gpt_secret_key\n",
    ")\n",
    "qa_evaluator = LangChainStringEvaluator(\n",
    "    \"qa\", \n",
    "    config={\"llm\": eval_llm},\n",
    "    prepare_data=lambda run, example: {\n",
    "        \"prediction\": run.outputs[\"output\"],\n",
    "        \"reference\": example.outputs[\"output\"],\n",
    "        \"input\": example.inputs[\"input\"],\n",
    "    }\n",
    ")  \n",
    "context_qa_evaluator = LangChainStringEvaluator(\n",
    "    \"context_qa\", \n",
    "    config={\"llm\": eval_llm},\n",
    "    prepare_data=lambda run, example: {\n",
    "        \"prediction\": run.outputs[\"output\"],\n",
    "        \"reference\": example.outputs[\"output\"],\n",
    "        \"input\": example.inputs[\"input\"],\n",
    "    }\n",
    ")\n",
    "cot_qa_evaluator = LangChainStringEvaluator(\n",
    "    \"cot_qa\", \n",
    "    config={\"llm\": eval_llm},\n",
    "    prepare_data=lambda run, example: {\n",
    "        \"prediction\": run.outputs[\"output\"],\n",
    "        \"reference\": example.outputs[\"output\"],\n",
    "        \"input\": example.inputs[\"input\"],\n",
    "    }\n",
    ")\n",
    "\n",
    "def run_evaluate(dataset):\n",
    "    return evaluate(\n",
    "        lambda x: math_solver.agent.invoke(x),\n",
    "        data=dataset,\n",
    "        evaluators = [qa_evaluator, context_qa_evaluator, cot_qa_evaluator],\n",
    "        experiment_prefix=\"Hanlin Math Elementary \" + dataset,\n",
    "        max_concurrency=5,\n",
    "    )"
   ]
  },
  {
   "cell_type": "code",
   "execution_count": null,
   "metadata": {},
   "outputs": [],
   "source": [
    "#run_evaluate(\"grade2_1\")"
   ]
  },
  {
   "cell_type": "markdown",
   "metadata": {},
   "source": [
    "### 自訂 Evaluator"
   ]
  },
  {
   "cell_type": "code",
   "execution_count": 14,
   "metadata": {},
   "outputs": [],
   "source": [
    "import csv\n",
    "def read_csv(file_path):\n",
    "    with open(file_path, mode='r', newline='', errors='ignore') as file:\n",
    "        reader = csv.reader(file)\n",
    "        data = [row for row in reader if row]\n",
    "    #print(len(data) - 1, data[:3])\n",
    "    return data"
   ]
  },
  {
   "cell_type": "code",
   "execution_count": 7,
   "metadata": {},
   "outputs": [],
   "source": [
    "import csv\n",
    "def write_result_csv(data, file_path):\n",
    "    with open(file_path, 'w+', encoding='utf-8', newline='') as f:\n",
    "        writer = csv.writer(f)\n",
    "        for row in data:\n",
    "            writer.writerow(row)\n",
    "    print('Save data in ' + file_path)"
   ]
  },
  {
   "cell_type": "code",
   "execution_count": 25,
   "metadata": {},
   "outputs": [],
   "source": [
    "import time\n",
    "from tqdm.notebook import tqdm\n",
    "from langchain.callbacks import get_openai_callback\n",
    "from src.service.math_solver import MathSolver\n",
    "from src.service.question_evaluator import QuestionEvaluator\n",
    "from src.service.translator import Translator\n",
    "\n",
    "math_solver = MathSolver(model=\"gpt-4o-2024-05-13\", temperature=0)\n",
    "evaluator = QuestionEvaluator(model=\"gpt-4o-2024-05-13\", temperature=0)\n",
    "translator = Translator(model=\"gpt-4o-2024-05-13\", temperature=0, lang='zh-TW')\n",
    "\n",
    "def acc_experiment(dataset):\n",
    "    labels = ['question', 'true_answer', 'difficulty', 'chapter', 'generated_answer', 'ans_tokens', 'ans_cost', 'ans_time', 'qa_evaluate', 'qa_reply', 'cot_evaluate', 'cot_reply', 'tot_tokens', 'tot_cost']\n",
    "    result = [labels]\n",
    "    pbar = tqdm(total=len(dataset))\n",
    "    tot_tokens, tot_cost = 0, 0.\n",
    "    for question, answer, difficulty, chapter in dataset:\n",
    "        try:\n",
    "            with get_openai_callback() as cb:\n",
    "                start_time = time.time()\n",
    "                gen_ans = math_solver.agent.invoke({\"input\": MathSolver.SAQ_prompt(question)})[\"output\"].replace('\\n', ' ')\n",
    "                end_time = time.time()\n",
    "                ans_tokens, ans_cost = cb.total_tokens, cb.total_cost\n",
    "\n",
    "                translate_prompt = translator.question_solution_prompt(question, gen_ans)\n",
    "                gen_ans = translator.llm_translate(translate_prompt)\n",
    "                qa = evaluator.reply(evaluator.QA_context_prompt(question, answer, gen_ans)).replace('\\n', ' ')\n",
    "                qa_eval = True if 'CORRECT' in qa and 'INCORRECT' not in qa else False\n",
    "                cot = evaluator.reply(evaluator.cot_context_prompt(question, answer, gen_ans)).replace('\\n', ' ')\n",
    "                cot_eval = True if 'CORRECT' in cot and 'INCORRECT' not in cot else False\n",
    "                result.append([question, answer, difficulty, chapter, gen_ans, ans_tokens, ans_cost, end_time - start_time, qa_eval, qa, cot_eval, cot, cb.total_tokens, cb.total_cost])\n",
    "                tot_tokens += cb.total_tokens\n",
    "                tot_cost += cb.total_cost\n",
    "        except:\n",
    "            result.append([question, answer, difficulty, chapter, 'ERROR', 0, 0, 0, False, None, False, None, 0, 0])\n",
    "        pbar.update(1)\n",
    "\n",
    "    print('Total tokens: ', tot_tokens, ', total cost: ', tot_cost)\n",
    "    return result"
   ]
  },
  {
   "cell_type": "code",
   "execution_count": null,
   "metadata": {},
   "outputs": [],
   "source": [
    "target = 'grade6_2'\n",
    "data = read_csv('dataset/{}.csv'.format(target))\n",
    "# res = acc_experiment(data[1:])\n",
    "# write_result_csv(res, 'experiment/{}.csv'.format(target))"
   ]
  },
  {
   "cell_type": "markdown",
   "metadata": {},
   "source": [
    "### Result\n",
    "\n",
    "#### Accuracy Table\n",
    "\n",
    "| 年級_學期 | 錯誤題數 | 總題數 | 答對率 |\n",
    "| :------: | :------: | :---: | :----: |\n",
    "| grade1_1 | 4        | 54    | 92.6%  |\n",
    "| grade1_2 | 6        | 166   | 96.4%  |\n",
    "| grade2_1 | 21       | 230   | 90.9%  |\n",
    "| grade2_2 | 20       | 223   | 91.0%  |\n",
    "| grade3_1 | 24       | 245   | 90.2%  |\n",
    "| grade3_2 | 16       | 166   | 90.4%  |\n",
    "| grade4_1 | 12       | 155   | 92.3%  |\n",
    "| grade4_2 | 43       | 203   | 78.8%  |\n",
    "| grade5_1 | 50       | 329   | 84.8%  |\n",
    "| grade5_2 | 25       | 186   | 86.6%  |\n",
    "| grade6_1 | 62       | 331   | 81.3%  |\n",
    "| grade6_2 | 19       | 86    | 77.9%  |\n",
    "\n",
    "#### 總計\n",
    "錯誤題數: 302,  總題數: 2374, 答對率: 87.3 % \n"
   ]
  },
  {
   "cell_type": "code",
   "execution_count": 7,
   "metadata": {},
   "outputs": [],
   "source": [
    "# question, true_answer, difficulty, chapter, generated_answer, ans_tokens, ans_cost, ans_time, qa_evaluate, qa_reply, cot_evaluate, cot_reply, tot_tokens, tot_cost\n",
    "def parse_data(data):\n",
    "    ret = {\n",
    "        'question_num': 0,\n",
    "        'easy_num': 0,\n",
    "        'medium_num': 0,\n",
    "        'hard_num': 0,\n",
    "        'correct': 0,\n",
    "        'easy_correct': 0,\n",
    "        'medium_correct': 0,\n",
    "        'hard_correct': 0,\n",
    "        'qa_correct': 0,\n",
    "        'cot_correct': 0,\n",
    "        'error': 0,\n",
    "        'sum_ans_token': 0.,\n",
    "        'sum_ans_cost': 0.,\n",
    "        'sum_ans_time': 0.,\n",
    "        'sum_tot_cost': 0.,\n",
    "    }\n",
    "\n",
    "    for question, true_answer, difficulty, chapter, generated_answer, ans_tokens, ans_cost, ans_time, qa_evaluate, qa_reply, cot_evaluate, cot_reply, tot_tokens, tot_cost in data:\n",
    "        ret['question_num'] += 1\n",
    "        if difficulty == '易': ret['easy_num'] += 1\n",
    "        elif difficulty == '中': ret['medium_num'] += 1\n",
    "        elif difficulty == '難': ret['hard_num'] += 1\n",
    "        if qa_evaluate == 'True' and cot_evaluate == 'True': \n",
    "            ret['correct'] += 1\n",
    "            if difficulty == '易': ret['easy_correct'] += 1\n",
    "            elif difficulty == '中': ret['medium_correct'] += 1\n",
    "            elif difficulty == '難': ret['hard_correct'] += 1\n",
    "            ret['sum_ans_token'] += int(ans_tokens)\n",
    "            ret['sum_ans_cost'] += float(ans_cost)\n",
    "            ret['sum_ans_time'] += float(ans_time)\n",
    "            ret['sum_tot_cost'] += float(tot_cost)\n",
    "        if qa_evaluate == 'True': ret['qa_correct'] += 1\n",
    "        if cot_evaluate == 'True': ret['cot_correct'] += 1\n",
    "        if generated_answer == 'ERROR': ret['error'] += 1\n",
    "        \n",
    "        \n",
    "    return ret"
   ]
  },
  {
   "cell_type": "code",
   "execution_count": 8,
   "metadata": {},
   "outputs": [
    {
     "name": "stdout",
     "output_type": "stream",
     "text": [
      "grade1_1\n",
      "{'question_num': 54, 'easy_num': 18, 'medium_num': 25, 'hard_num': 11, 'correct': 52, 'easy_correct': 18, 'medium_correct': 25, 'hard_correct': 9, 'qa_correct': 52, 'cot_correct': 52, 'error': 2, 'sum_ans_token': 62283.0, 'sum_ans_cost': 0.4204749999999999, 'sum_ans_time': 1385.7584924697876, 'sum_tot_cost': 0.7673849999999999}\n",
      "grade1_2\n",
      "{'question_num': 166, 'easy_num': 43, 'medium_num': 104, 'hard_num': 19, 'correct': 162, 'easy_correct': 42, 'medium_correct': 102, 'hard_correct': 18, 'qa_correct': 162, 'cot_correct': 162, 'error': 2, 'sum_ans_token': 201248.0, 'sum_ans_cost': 1.3119800000000001, 'sum_ans_time': 4072.006889820099, 'sum_tot_cost': 2.4454249999999997}\n",
      "grade2_1\n",
      "{'question_num': 230, 'easy_num': 33, 'medium_num': 170, 'hard_num': 27, 'correct': 209, 'easy_correct': 30, 'medium_correct': 157, 'hard_correct': 22, 'qa_correct': 209, 'cot_correct': 212, 'error': 7, 'sum_ans_token': 275187.0, 'sum_ans_cost': 1.8833650000000002, 'sum_ans_time': 7708.118501424789, 'sum_tot_cost': 3.632055000000001}\n",
      "grade2_2\n",
      "{'question_num': 223, 'easy_num': 86, 'medium_num': 122, 'hard_num': 15, 'correct': 202, 'easy_correct': 82, 'medium_correct': 110, 'hard_correct': 10, 'qa_correct': 202, 'cot_correct': 202, 'error': 8, 'sum_ans_token': 245364.0, 'sum_ans_cost': 1.6432199999999997, 'sum_ans_time': 8459.03385066986, 'sum_tot_cost': 3.2153799999999975}\n",
      "grade3_1\n",
      "{'question_num': 245, 'easy_num': 111, 'medium_num': 116, 'hard_num': 18, 'correct': 221, 'easy_correct': 97, 'medium_correct': 108, 'hard_correct': 16, 'qa_correct': 221, 'cot_correct': 224, 'error': 9, 'sum_ans_token': 300644.0, 'sum_ans_cost': 2.08018, 'sum_ans_time': 14497.87118935585, 'sum_tot_cost': 3.894475000000001}\n",
      "grade3_2\n",
      "{'question_num': 166, 'easy_num': 71, 'medium_num': 85, 'hard_num': 10, 'correct': 150, 'easy_correct': 65, 'medium_correct': 79, 'hard_correct': 6, 'qa_correct': 150, 'cot_correct': 150, 'error': 6, 'sum_ans_token': 174372.0, 'sum_ans_cost': 1.2011800000000001, 'sum_ans_time': 8703.254354953766, 'sum_tot_cost': 2.3670299999999997}\n",
      "grade4_1\n",
      "{'question_num': 155, 'easy_num': 59, 'medium_num': 84, 'hard_num': 12, 'correct': 142, 'easy_correct': 56, 'medium_correct': 76, 'hard_correct': 10, 'qa_correct': 143, 'cot_correct': 143, 'error': 0, 'sum_ans_token': 191749.0, 'sum_ans_cost': 1.3589549999999992, 'sum_ans_time': 2544.702058315277, 'sum_tot_cost': 2.6155349999999995}\n",
      "grade4_2\n",
      "{'question_num': 203, 'easy_num': 82, 'medium_num': 88, 'hard_num': 33, 'correct': 159, 'easy_correct': 66, 'medium_correct': 68, 'hard_correct': 25, 'qa_correct': 160, 'cot_correct': 161, 'error': 18, 'sum_ans_token': 235279.0, 'sum_ans_cost': 1.6306450000000001, 'sum_ans_time': 4826.653193950653, 'sum_tot_cost': 3.186010000000001}\n",
      "grade5_1\n",
      "{'question_num': 329, 'easy_num': 126, 'medium_num': 170, 'hard_num': 33, 'correct': 279, 'easy_correct': 117, 'medium_correct': 137, 'hard_correct': 25, 'qa_correct': 279, 'cot_correct': 282, 'error': 25, 'sum_ans_token': 468463.0, 'sum_ans_cost': 3.390675000000001, 'sum_ans_time': 7341.045362234116, 'sum_tot_cost': 6.147789999999995}\n",
      "grade5_2\n",
      "{'question_num': 186, 'easy_num': 71, 'medium_num': 98, 'hard_num': 17, 'correct': 161, 'easy_correct': 65, 'medium_correct': 88, 'hard_correct': 8, 'qa_correct': 161, 'cot_correct': 165, 'error': 3, 'sum_ans_token': 249857.0, 'sum_ans_cost': 1.6929849999999993, 'sum_ans_time': 4528.389207601547, 'sum_tot_cost': 3.188315}\n",
      "grade6_1\n",
      "{'question_num': 331, 'easy_num': 124, 'medium_num': 163, 'hard_num': 44, 'correct': 269, 'easy_correct': 109, 'medium_correct': 131, 'hard_correct': 29, 'qa_correct': 269, 'cot_correct': 270, 'error': 21, 'sum_ans_token': 448404.0, 'sum_ans_cost': 3.2676799999999986, 'sum_ans_time': 3543.109045267105, 'sum_tot_cost': 6.109660000000001}\n",
      "grade6_2\n",
      "{'question_num': 86, 'easy_num': 32, 'medium_num': 43, 'hard_num': 11, 'correct': 67, 'easy_correct': 27, 'medium_correct': 33, 'hard_correct': 7, 'qa_correct': 67, 'cot_correct': 69, 'error': 0, 'sum_ans_token': 113316.0, 'sum_ans_cost': 0.8018500000000001, 'sum_ans_time': 3136.515479326248, 'sum_tot_cost': 1.5407700000000002}\n"
     ]
    }
   ],
   "source": [
    "dmap = {}\n",
    "for grade in range(1, 7):\n",
    "    for sem in range(1, 3):\n",
    "        target = f'grade{grade}_{sem}'.format(grade=grade, sem=sem)\n",
    "        data = read_csv('experiment/accuracy/{}.csv'.format(target))\n",
    "        dmap[target] = parse_data(data[1:])\n",
    "\n",
    "for k, v in dmap.items():\n",
    "    print(k)\n",
    "    print(v)     "
   ]
  },
  {
   "cell_type": "code",
   "execution_count": 11,
   "metadata": {},
   "outputs": [],
   "source": [
    "import matplotlib.pyplot as plt\n",
    "import numpy as np\n",
    "\n",
    "def acc_plot(dmap):\n",
    "    acc, easy_acc, medium_acc, hard_acc, bins = [], [], [], [], []\n",
    "    tot_num, easy_num, medium_num, hard_num = [], [], [], []\n",
    "    ac_num, ec_num, mc_num, hc_num = [], [], [], []\n",
    "    ans_tok, ans_cost, ans_time, tot_cost = 0., 0., 0., 0.\n",
    "    for grade in range(1, 7):\n",
    "        for sem in range(1, 3):\n",
    "            target = f'grade{grade}_{sem}'.format(grade=grade, sem=sem)\n",
    "            bins.append(target)\n",
    "            ac_num.append(dmap[target]['correct'])\n",
    "            acc.append(100. * dmap[target]['correct'] / dmap[target]['question_num'])\n",
    "            tot_num.append(dmap[target]['question_num'])\n",
    "            ec_num.append(dmap[target]['easy_correct'])\n",
    "            easy_acc.append(100. * dmap[target]['easy_correct'] / dmap[target]['easy_num'])\n",
    "            easy_num.append(dmap[target]['easy_num'])\n",
    "            mc_num.append(dmap[target]['medium_correct'])\n",
    "            medium_acc.append(100. * dmap[target]['medium_correct'] / dmap[target]['medium_num'])\n",
    "            medium_num.append(dmap[target]['medium_num'])\n",
    "            hc_num.append(dmap[target]['hard_correct'])\n",
    "            hard_acc.append(100. * dmap[target]['hard_correct'] / dmap[target]['hard_num'])\n",
    "            hard_num.append(dmap[target]['hard_num'])\n",
    "\n",
    "            ans_tok += dmap[target]['sum_ans_token']\n",
    "            ans_cost += dmap[target]['sum_ans_cost']\n",
    "            ans_time += dmap[target]['sum_ans_time']\n",
    "            tot_cost += dmap[target]['sum_tot_cost']\n",
    "    \n",
    "    print('Total Number: ', sum(tot_num), ', Easy: ', sum(easy_num), ', Medium: ', sum(medium_num), ', Hard: ', sum(hard_num))\n",
    "    print('Total Correct: ', sum(ac_num), ', Easy: ', sum(ec_num), ', Medium: ', sum(mc_num), ', Hard: ', sum(hc_num))\n",
    "    print('Total Accuracy: ', sum(ac_num) / sum(tot_num), ', Easy: ', sum(ec_num) / sum(easy_num), ', Medium: ', sum(mc_num) / sum(medium_num), ', Hard: ', sum(hc_num) / sum(hard_num))\n",
    "    print('Average Token: ', ans_tok / sum(ac_num), ', Average Cost: ', ans_cost / sum(ac_num), ', Average Time: ', ans_time / sum(ac_num), ', Total Cost: ', tot_cost / sum(ac_num))\n",
    "    print('Sum Token: ', ans_tok, ', Sum Cost: ', ans_cost, ', Sum Time: ', ans_time, ', Sum Total Cost: ', tot_cost)\n",
    "    \n",
    "\n",
    "    index = np.arange(len(acc))\n",
    "    width, d = 0.15, 0.03\n",
    "\n",
    "    fig, ax1 = plt.subplots(figsize=(10, 6))\n",
    "    ax1.bar(index, tot_num, width, label='Question Number', color='tab:blue', align='edge', alpha=0.5)\n",
    "    ax1.bar(index, ac_num, width, color='tab:blue', align='edge', alpha=0.7)\n",
    "\n",
    "    ax1.bar(index + (width + d), easy_num, width, label='Easy Number', color='tab:green', align='edge', alpha=0.5)\n",
    "    ax1.bar(index + (width + d), ec_num, width, color='tab:green', align='edge', alpha=0.7)\n",
    "    \n",
    "    ax1.bar(index + 2 * (width + d), medium_num, width, label='Medium Number', color='orange', align='edge', alpha=0.5)\n",
    "    ax1.bar(index + 2 * (width + d), mc_num, width, color='orange', align='edge', alpha=0.7)\n",
    "    \n",
    "    ax1.bar(index + 3 * (width + d), hard_num, width, label='Hard Number', color='tab:red', align='edge', alpha=0.5)\n",
    "    ax1.bar(index + 3 * (width + d), hc_num, width, color='tab:red', align='edge', alpha=0.7)\n",
    "    \n",
    "    ax1.set_xlabel('Grade / Semester')\n",
    "    ax1.set_xticks(index + 0.3, bins, rotation=45, ha='right')\n",
    "    ax1.set_ylabel('Number')\n",
    "\n",
    "    ax1.legend(ncol=4, loc='upper center', bbox_to_anchor=(0.5, 1.1))\n",
    "\n",
    "    ax2 = ax1.twinx()\n",
    "    ax2.set_ylabel('Accuracy (%)', rotation=270)\n",
    "    ax2.set_ylim(0, 110)\n",
    "    ax2.plot(index + 1.5 * (width + d), acc, 's-', label='Question Accuracy', color='tab:blue')\n",
    "    ax2.plot(index + 1.5 * (width + d), easy_acc, 's-', label='Easy Accuracy', color='tab:green')\n",
    "    ax2.plot(index + 1.5 * (width + d), medium_acc, 's-', label='Medium Accuracy', color='orange')\n",
    "    ax2.plot(index + 1.5 * (width + d), hard_acc, 's-', label='Hard Accuracy', color='tab:red')\n",
    "    ax2.legend(ncol=4, loc='upper center', bbox_to_anchor=(0.5, 1.2))\n",
    "\n",
    "    fig.tight_layout()\n",
    "\n",
    "    plt.show()\n",
    "\n",
    "    plt.figure()"
   ]
  },
  {
   "cell_type": "code",
   "execution_count": 12,
   "metadata": {},
   "outputs": [
    {
     "name": "stdout",
     "output_type": "stream",
     "text": [
      "Total Number:  2374 , Easy:  856 , Medium:  1268 , Hard:  250\n",
      "Total Correct:  2073 , Easy:  774 , Medium:  1114 , Hard:  185\n",
      "Total Accuracy:  0.8732097725358046 , Easy:  0.9042056074766355 , Medium:  0.8785488958990536 , Hard:  0.74\n",
      "Average Token:  1430.8567293777135 , Average Cost:  0.009977419199228172 , Average Time:  34.12757241938693 , Total Cost:  0.018866295224312588\n",
      "Sum Token:  2966166.0 , Sum Cost:  20.68319 , Sum Time:  70746.4576253891 , Sum Total Cost:  39.109829999999995\n"
     ]
    },
    {
     "data": {
      "image/png": "[encoded data removed]",
      "text/plain": [
       "<Figure size 1000x600 with 2 Axes>"
      ]
     },
     "metadata": {},
     "output_type": "display_data"
    },
    {
     "data": {
      "text/plain": [
       "<Figure size 640x480 with 0 Axes>"
      ]
     },
     "metadata": {},
     "output_type": "display_data"
    }
   ],
   "source": [
    "acc_plot(dmap)"
   ]
  },
  {
   "cell_type": "markdown",
   "metadata": {},
   "source": [
    "## Experiment 2: Created New Questions"
   ]
  },
  {
   "cell_type": "code",
   "execution_count": 169,
   "metadata": {},
   "outputs": [],
   "source": [
    "import random\n",
    "def select_questions(dataset, number):\n",
    "    valid = []\n",
    "    for data in dataset:\n",
    "        if data[8] == 'True' and data[10] == 'True':\n",
    "            valid.append((data[0], data[4]))\n",
    "    return random.sample(valid, number)"
   ]
  },
  {
   "cell_type": "code",
   "execution_count": 170,
   "metadata": {},
   "outputs": [
    {
     "name": "stderr",
     "output_type": "stream",
     "text": [
      "c:\\Users\\123\\OneDrive\\Documents\\GitHub\\qsticker_gpt_server\\gpt_server\\Lib\\site-packages\\langchain_core\\_api\\deprecation.py:119: LangChainDeprecationWarning: The class `LLMChain` was deprecated in LangChain 0.1.17 and will be removed in 0.3.0. Use RunnableSequence, e.g., `prompt | llm` instead.\n",
      "  warn_deprecated(\n"
     ]
    }
   ],
   "source": [
    "import time\n",
    "from langchain.callbacks import get_openai_callback\n",
    "from src.service.math_solver import MathSolver\n",
    "from src.service.question_evaluator import QuestionEvaluator\n",
    "from src.service.translator import Translator\n",
    "from src.service.question_generator import QuestionGenerator\n",
    "\n",
    "generator = QuestionGenerator(model=\"gpt-4o-2024-05-13\", temperature=1.)\n",
    "math_solver = MathSolver(model=\"gpt-4o-2024-05-13\", temperature=0.)\n",
    "evaluator = QuestionEvaluator(model=\"gpt-4o-2024-05-13\", temperature=0.)\n",
    "translator = Translator(model=\"gpt-4o-2024-05-13\", temperature=0., lang='zh-TW')\n",
    "\n",
    "def generate_solve_evaluate(question, solution, limit):\n",
    "    generate_time, tokens, cost = 0, 0, 0\n",
    "    result = None\n",
    "    \n",
    "    with get_openai_callback() as cb:\n",
    "        start_time = time.time()\n",
    "        while generate_time < limit:\n",
    "            generate_time += 1\n",
    "            try:\n",
    "                # generating\n",
    "                question_prompt = generator.question_generation_prompt(question, solution)\n",
    "                new_question = generator.reply(question_prompt)\n",
    "                translate_prompt = translator.question_prompt(new_question)\n",
    "                new_question = translator.llm_translate(translate_prompt)\n",
    "\n",
    "                # solving\n",
    "                new_solution = math_solver.agent.invoke({\"input\": MathSolver.SAQ_prompt(new_question)})[\"output\"].replace('\\n', ' ')\n",
    "                translate_prompt = translator.question_solution_prompt(new_question, new_solution)\n",
    "                new_solution = translator.llm_translate(translate_prompt)\n",
    "                \n",
    "                # evaluating\n",
    "                qa = evaluator.reply(evaluator.QA_evaluation_prompt(new_question, new_solution)).replace('\\n', ' ')\n",
    "                qa_eval = True if 'CORRECT' in qa and 'INCORRECT' not in qa else False\n",
    "\n",
    "                cot = evaluator.reply(evaluator.cot_evaluation_prompt(new_question, new_solution)).replace('\\n', ' ')\n",
    "                cot_eval = True if 'CORRECT' in cot and 'INCORRECT' not in cot else False\n",
    "\n",
    "                if qa_eval and cot_eval:\n",
    "                    end_time = time.time()\n",
    "                    result = [question, solution, new_question, new_solution, end_time - start_time, generate_time, qa_eval, qa, cot_eval, cot, cb.total_tokens, cb.total_cost]\n",
    "                    break\n",
    "            \n",
    "            except:\n",
    "                continue\n",
    "\n",
    "        tokens, cost = cb.total_tokens, cb.total_cost\n",
    "    \n",
    "    if not result:\n",
    "        end_time = time.time()\n",
    "        result = [question, solution, 'ERROR', 'ERROR', end_time - start_time, generate_time, False, 'ERROR', False, 'ERROR', tokens, cost]\n",
    "        \n",
    "    return result"
   ]
  },
  {
   "cell_type": "code",
   "execution_count": 171,
   "metadata": {},
   "outputs": [],
   "source": [
    "from tqdm.notebook import tqdm\n",
    "def gen_experiment(data, time_limit):\n",
    "    labels = ['question', 'answer', 'new_question', 'new_answer', 'tot_time', 'gen_time', 'qa_evaluate', 'qa_reply', 'cot_evaluate', 'cot_reply', 'tot_tokens', 'tot_cost']\n",
    "    result = [labels]\n",
    "    tot_tokens, tot_cost = 0, 0\n",
    "\n",
    "    pbar = tqdm(total=len(data))\n",
    "    for question, solution in data:\n",
    "        res = generate_solve_evaluate(question, solution, time_limit)\n",
    "        result.append(res)\n",
    "        tot_tokens += res[-2]\n",
    "        tot_cost += res[-1]\n",
    "        pbar.update(1)\n",
    "\n",
    "    print('Total tokens: ', tot_tokens, ', total cost: ', tot_cost)\n",
    "    return result"
   ]
  },
  {
   "cell_type": "code",
   "execution_count": null,
   "metadata": {},
   "outputs": [],
   "source": [
    "for grade in range(1, 7):\n",
    "    for sem in range(1, 3):\n",
    "        target = f'grade{grade}_{sem}'.format(grade=grade, sem=sem)\n",
    "        data = read_csv('experiment/accuracy/{}.csv'.format(target))\n",
    "        selected = select_questions(data, 10)\n",
    "        res = gen_experiment(selected, 5)\n",
    "        write_result_csv(res, 'experiment/created/{}.csv'.format(target))"
   ]
  },
  {
   "cell_type": "code",
   "execution_count": 172,
   "metadata": {},
   "outputs": [
    {
     "data": {
      "application/vnd.jupyter.widget-view+json": {
       "model_id": "6cdd6a46bd7646708de8bbe1e06cf5d2",
       "version_major": 2,
       "version_minor": 0
      },
      "text/plain": [
       "  0%|          | 0/1 [00:00<?, ?it/s]"
      ]
     },
     "metadata": {},
     "output_type": "display_data"
    },
    {
     "name": "stdout",
     "output_type": "stream",
     "text": [
      "Total tokens:  3062 , total cost:  0.02187\n",
      "Save data in experiment/test.csv\n"
     ]
    },
    {
     "ename": "",
     "evalue": "",
     "output_type": "error",
     "traceback": [
      "\u001b[1;31mThe Kernel crashed while executing code in the current cell or a previous cell. \n",
      "\u001b[1;31mPlease review the code in the cell(s) to identify a possible cause of the failure. \n",
      "\u001b[1;31mClick <a href='https://aka.ms/vscodeJupyterKernelCrash'>here</a> for more info. \n",
      "\u001b[1;31mView Jupyter <a href='command:jupyter.viewOutput'>log</a> for further details."
     ]
    }
   ],
   "source": [
    "target = 'grade3_1'\n",
    "data = read_csv('experiment/accuracy/{}.csv'.format(target))\n",
    "selected = select_questions(data, 1)\n",
    "res = gen_experiment(selected, 5)\n",
    "write_result_csv(res, 'experiment/test.csv')"
   ]
  },
  {
   "cell_type": "markdown",
   "metadata": {},
   "source": [
    "### Result"
   ]
  },
  {
   "cell_type": "markdown",
   "metadata": {},
   "source": [
    "gen_1 成功率 120/125\n",
    "gen_2 成功率 120/126"
   ]
  },
  {
   "cell_type": "code",
   "execution_count": 11,
   "metadata": {},
   "outputs": [],
   "source": [
    "# grade, question, answer, new_question, new_answer, tot_time, gen_time, qa_evaluate, qa_reply, cot_evaluate, cot_reply, tot_tokens, tot_cost, concept, logic, correct3\n",
    "def parse_data(data):\n",
    "    ret = {}\n",
    "    for grade in range(1, 7):\n",
    "        for sem in range(1, 3):\n",
    "            ret[f'grade{grade}_{sem}'.format(grade=grade, sem=sem)] = {\n",
    "                'question_num': 0,\n",
    "                'generate_time': 0,\n",
    "                'tot_time': 0.,\n",
    "                'tot_token': 0,\n",
    "                'tot_cost': 0.,\n",
    "                'success': [],\n",
    "                'concept': [],\n",
    "                'logic': [],\n",
    "                'correct': [],\n",
    "            } \n",
    "\n",
    "    for grade, question, answer, new_question, new_answer, tot_time, gen_time, qa_evaluate, qa_reply, cot_evaluate, cot_reply, tot_tokens, tot_cost, concept, logic, correct3 in data:\n",
    "        ret[grade]['question_num'] += 1\n",
    "        ret[grade]['generate_time'] += int(gen_time)\n",
    "        ret[grade]['tot_time'] += float(tot_time)\n",
    "        ret[grade]['tot_token'] += int(tot_tokens)\n",
    "        ret[grade]['tot_cost'] += float(tot_cost)\n",
    "        ret[grade]['success'].append(concept == 'TRUE' and logic == 'TRUE' and correct3 == 'TRUE')\n",
    "        ret[grade]['concept'].append(concept == 'TRUE')\n",
    "        ret[grade]['logic'].append(logic == 'TRUE')\n",
    "        ret[grade]['correct'].append(correct3 == 'TRUE')\n",
    "        \n",
    "    return ret"
   ]
  },
  {
   "cell_type": "code",
   "execution_count": 12,
   "metadata": {},
   "outputs": [],
   "source": [
    "import matplotlib.pyplot as plt\n",
    "import numpy as np\n",
    "\n",
    "def gen_plot(gen_data):\n",
    "    bins = []\n",
    "    tot_num, fconcept, flogic, fcorrect, success = [], [], [], [], []\n",
    "    tot_gen, tot_token, tot_cost, tot_time = 0, 0, 0., 0.\n",
    "    for grade in range(1, 7):\n",
    "        for sem in range(1, 3):\n",
    "            target = f'grade{grade}_{sem}'.format(grade=grade, sem=sem)\n",
    "            bins.append(target)\n",
    "            fconcept.append(sum([1 for x in gen_data[target]['concept'] if not x]))\n",
    "            flogic.append(sum([1 for x in gen_data[target]['logic'] if not x]))\n",
    "            fcorrect.append(sum([1 for x in gen_data[target]['correct'] if not x]))\n",
    "            success.append(sum([1 for x in gen_data[target]['success'] if x]))\n",
    "            tot_num.append(gen_data[target]['question_num'])\n",
    "\n",
    "            tot_gen += gen_data[target]['generate_time']\n",
    "            tot_token += gen_data[target]['tot_token']\n",
    "            tot_cost += gen_data[target]['tot_cost']\n",
    "            tot_time += gen_data[target]['tot_time']\n",
    "    \n",
    "    print(fconcept, sum(fconcept))\n",
    "    print(flogic, sum(flogic))\n",
    "    print(fcorrect, sum(fcorrect))\n",
    "    print(success, sum(success))\n",
    "    print('Average Generate Time: ', tot_gen / sum(tot_num), ', Average Token: ', tot_token / sum(tot_num), ', Average Cost: ', tot_cost / sum(tot_num), ', Average Time: ', tot_time / sum(tot_num))\n",
    "    print('Sum Generate Time: ', tot_gen, ', Sum Token: ', tot_token, ', Sum Cost: ', tot_cost, ', Sum Time: ', tot_time)\n",
    "\n",
    "    index = np.arange(len(tot_num))\n",
    "    width, d = 0.15, 0.03\n",
    "\n",
    "    plt.figure(figsize=(10, 6))\n",
    "    plt.bar(index, success, width, label='Valid Question', color='tab:blue', align='edge', alpha=0.7)\n",
    "    plt.bar(index + (width + d), fconcept, width, label='Concept Test Failed', color='tab:green', align='edge', alpha=0.7)\n",
    "    plt.bar(index + 2 * (width + d), flogic, width, label='Logic Test Failed', color='orange', align='edge', alpha=0.7)\n",
    "    plt.bar(index + 3 * (width + d), fcorrect, width, label='Correctness Test Failed', color='tab:red', align='edge', alpha=0.7)\n",
    "    \n",
    "    plt.xlabel('Grade / Semester')\n",
    "    plt.ylim(0, 20)\n",
    "    plt.xticks(index + 0.33, bins, rotation=45, ha='right')\n",
    "    plt.ylabel('Number')\n",
    "    plt.yticks([x for x in range(0, 21, 2)])\n",
    "\n",
    "    plt.legend(ncol=4, loc='upper center', bbox_to_anchor=(0.5, 1.1))\n",
    "\n",
    "    plt.show()\n",
    "\n",
    "    plt.figure()"
   ]
  },
  {
   "cell_type": "code",
   "execution_count": 20,
   "metadata": {},
   "outputs": [
    {
     "name": "stdout",
     "output_type": "stream",
     "text": [
      "241 ['grade', 'question', 'answer', 'new_question', 'new_answer', 'tot_time', 'gen_time', 'qa_evaluate', 'qa_reply', 'cot_evaluate', 'cot_reply', 'tot_tokens', 'tot_cost', 'concept', 'logic', 'correct3']\n",
      "[1, 0, 1, 2, 0, 1, 4, 1, 3, 0, 1, 1] 15\n",
      "[5, 2, 1, 2, 2, 0, 2, 7, 3, 3, 3, 5] 35\n",
      "[1, 0, 1, 0, 1, 0, 2, 3, 0, 2, 2, 1] 13\n",
      "[15, 18, 17, 16, 18, 19, 15, 12, 15, 17, 15, 15] 192\n",
      "Average Generate Time:  1.275 , Average Token:  4499.4 , Average Cost:  0.03446316666666667 , Average Time:  31.453405883125\n",
      "Sum Generate Time:  306 , Sum Token:  1079856 , Sum Cost:  8.27116 , Sum Time:  7548.81741195\n"
     ]
    },
    {
     "data": {
      "image/png": "[encoded data removed]",
      "text/plain": [
       "<Figure size 1000x600 with 1 Axes>"
      ]
     },
     "metadata": {},
     "output_type": "display_data"
    },
    {
     "data": {
      "text/plain": [
       "<Figure size 640x480 with 0 Axes>"
      ]
     },
     "metadata": {},
     "output_type": "display_data"
    }
   ],
   "source": [
    "data = read_csv('experiment/gen_total.csv')\n",
    "print(len(data), data[0])\n",
    "gen_data = parse_data(data[1:])\n",
    "gen_plot(gen_data)"
   ]
  },
  {
   "cell_type": "code",
   "execution_count": null,
   "metadata": {},
   "outputs": [],
   "source": []
  }
 ],
 "metadata": {
  "kernelspec": {
   "display_name": "gpt_server",
   "language": "python",
   "name": "python3"
  },
  "language_info": {
   "codemirror_mode": {
    "name": "ipython",
    "version": 3
   },
   "file_extension": ".py",
   "mimetype": "text/x-python",
   "name": "python",
   "nbconvert_exporter": "python",
   "pygments_lexer": "ipython3",
   "version": "3.12.3"
  }
 },
 "nbformat": 4,
 "nbformat_minor": 2
}
