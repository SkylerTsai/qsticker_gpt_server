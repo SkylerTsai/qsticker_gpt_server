{
 "cells": [
  {
   "cell_type": "markdown",
   "metadata": {},
   "source": [
    "# Experiment Script"
   ]
  },
  {
   "cell_type": "markdown",
   "metadata": {},
   "source": [
    "### 將翰林題庫由 word 轉 csv"
   ]
  },
  {
   "cell_type": "code",
   "execution_count": 3,
   "metadata": {},
   "outputs": [
    {
     "data": {
      "text/plain": [
       "['E:\\\\HanlinMath\\\\ElementarySchool\\\\grade1_1\\\\3_1.docx',\n",
       " 'E:\\\\HanlinMath\\\\ElementarySchool\\\\grade1_1\\\\3_2.docx',\n",
       " 'E:\\\\HanlinMath\\\\ElementarySchool\\\\grade1_1\\\\3_3.docx',\n",
       " 'E:\\\\HanlinMath\\\\ElementarySchool\\\\grade1_1\\\\4_4.docx',\n",
       " 'E:\\\\HanlinMath\\\\ElementarySchool\\\\grade1_1\\\\6_1.docx',\n",
       " 'E:\\\\HanlinMath\\\\ElementarySchool\\\\grade1_1\\\\6_3.docx',\n",
       " 'E:\\\\HanlinMath\\\\ElementarySchool\\\\grade1_1\\\\7_1.docx',\n",
       " 'E:\\\\HanlinMath\\\\ElementarySchool\\\\grade1_1\\\\7_2.docx',\n",
       " 'E:\\\\HanlinMath\\\\ElementarySchool\\\\grade1_1\\\\7_3.docx',\n",
       " 'E:\\\\HanlinMath\\\\ElementarySchool\\\\grade1_1\\\\7_4.docx',\n",
       " 'E:\\\\HanlinMath\\\\ElementarySchool\\\\grade1_1\\\\8_2.docx',\n",
       " 'E:\\\\HanlinMath\\\\ElementarySchool\\\\grade1_1\\\\8_4.docx',\n",
       " 'E:\\\\HanlinMath\\\\ElementarySchool\\\\grade1_1\\\\9_1.docx']"
      ]
     },
     "execution_count": 3,
     "metadata": {},
     "output_type": "execute_result"
    }
   ],
   "source": [
    "import os\n",
    "def list_files(directory):\n",
    "    ret = []\n",
    "    for root, dirs, files in os.walk(directory):\n",
    "        for file in files:\n",
    "            #print(os.path.join(root, file))\n",
    "            ret.append(os.path.join(root, file))\n",
    "    return ret\n",
    "list_files('E:\\\\HanlinMath\\\\ElementarySchool\\\\grade1_1')"
   ]
  },
  {
   "cell_type": "markdown",
   "metadata": {},
   "source": [
    "#### docx -> dict"
   ]
  },
  {
   "cell_type": "code",
   "execution_count": 14,
   "metadata": {},
   "outputs": [
    {
     "name": "stdout",
     "output_type": "stream",
     "text": [
      "E:\\HanlinMath\\ElementarySchool\\grade1_2\\1_1.docx\n"
     ]
    },
    {
     "data": {
      "text/plain": [
       "[{'input': '(   )算算看，哪一個答案不是\\u300015？\\u3000(Ａ)\\u30009＋6\\u3000(Ｂ)\\u30008＋7\\u3000(Ｃ)\\u30006＋8。',\n",
       "  'output': '答案：(Ｃ) 解析：(Ａ)\\u30009＋6＝15；(Ｂ)\\u30008＋7＝15；(Ｃ)\\u30006＋8＝14 ',\n",
       "  'difficulty': '中',\n",
       "  'chapter': '1-1_基本加法'},\n",
       " {'input': '(   )包子店上午賣出\\u30005\\u3000個高麗菜包，下午賣出\\u30009\\u3000個高麗菜包，包子店共賣出幾個高麗菜包？\\u3000(Ａ)\\u300012\\u3000個\\u3000(Ｂ)\\u300013\\u3000個\\u3000(Ｃ)\\u300014\\u3000個。',\n",
       "  'output': '答案：(Ｃ) 解析：5＋9＝14 ',\n",
       "  'difficulty': '易',\n",
       "  'chapter': '1-1_基本加法'},\n",
       " {'input': '(   )籃子裡有\\u30005\\u3000顆綠球和\\u30007\\u3000顆黃球，籃子裡共有幾顆球？\\u3000(Ａ)\\u300013\\u3000顆\\u3000(Ｂ)\\u300012\\u3000顆\\u3000(Ｃ)\\u300011\\u3000顆。',\n",
       "  'output': '答案：(Ｂ) 解析：5＋7＝12 ',\n",
       "  'difficulty': '易',\n",
       "  'chapter': '1-1_基本加法'},\n",
       " {'input': '(   )操場上原有\\u30009\\u3000個小朋友，又來\\u30006\\u3000個小朋友，操場上現在共有幾個小朋友？\\u3000(Ａ)\\u300015\\u3000個\\u3000(Ｂ)\\u300016\\u3000個\\u3000(Ｃ)\\u300017\\u3000個。',\n",
       "  'output': '答案：(Ａ) 解析：9＋6＝15 ',\n",
       "  'difficulty': '易',\n",
       "  'chapter': '1-1_基本加法'},\n",
       " {'input': '(   )書桌上有\\u300010\\u3000本名人傳記和\\u30006\\u3000本科學小百科，書桌上一共有幾本書？\\u3000(Ａ)\\u300015\\u3000本\\u3000(Ｂ)\\u300016\\u3000本\\u3000(Ｃ)\\u300017\\u3000本。',\n",
       "  'output': '答案：(Ｂ) 解析：10＋6＝16 ',\n",
       "  'difficulty': '易',\n",
       "  'chapter': '1-1_基本加法'},\n",
       " {'input': '(   )「哥哥有\\u30007\\u3000個花片，弟弟有\\u30005\\u3000個花片，兩人共有幾個花片？」哪一個是正確的算式和答案？\\u3000(Ａ)\\u30007－5＝2\\u3000(Ｂ)\\u30007＋5＝12\\u3000(Ｃ)\\u30007＋4＝12。',\n",
       "  'output': '答案：(Ｂ) 解析：7＋5＝12 ',\n",
       "  'difficulty': '易',\n",
       "  'chapter': '1-1_基本加法'},\n",
       " {'input': '(   )算式\\u300012＋8＝20\\u3000中，12\\u3000稱為\\u3000(Ａ)被加數\\u3000(Ｂ)加數\\u3000(Ｃ)和。',\n",
       "  'output': '答案：(Ａ) 解析：在加法算式中，加號前面的數字稱為被加數。 ',\n",
       "  'difficulty': '易',\n",
       "  'chapter': '1-1_基本加法'},\n",
       " {'input': '(   )算式\\u30009＋8＝17\\u3000中，8\\u3000稱為\\u3000(Ａ)被加數\\u3000(Ｂ)加數\\u3000(Ｃ)和。',\n",
       "  'output': '答案：(Ｂ) 解析：在加法算式中，加號後面的數字稱為加數。 ',\n",
       "  'difficulty': '易',\n",
       "  'chapter': '1-1_基本加法'},\n",
       " {'input': '(   )算式\\u30008＋6＝14\\u3000中，14\\u3000稱為\\u3000(Ａ)被加數\\u3000(Ｂ)加數\\u3000(Ｃ)和。',\n",
       "  'output': '答案：(Ｃ) 解析：在加法算式中，加法算式中的答案稱為和。 ',\n",
       "  'difficulty': '易',\n",
       "  'chapter': '1-1_基本加法'},\n",
       " {'input': '(   )算式\\u30009＋10＝□，□的正確答案是多少？\\u3000(Ａ)\\u30009\\u3000(Ｂ)\\u300010\\u3000(Ｃ)\\u300019。',\n",
       "  'output': '答案：(Ｃ) 解析：9＋10＝19 ',\n",
       "  'difficulty': '易',\n",
       "  'chapter': '1-1_基本加法'},\n",
       " {'input': '(   )荷葉上有\\u30005\\u3000隻青蛙，又跳來\\u300010\\u3000隻，荷葉上共有幾隻青蛙？題目和答案可以用哪一個算式表示？\\u3000(Ａ)\\u30005＋10＝10\\u3000(Ｂ)\\u300010＋5＝16\\u3000(Ｃ)\\u30005＋10＝15。',\n",
       "  'output': '答案：(Ｃ) ',\n",
       "  'difficulty': '易',\n",
       "  'chapter': '1-1_基本加法'},\n",
       " {'input': '(   )媽媽吃了\\u30008\\u3000個鍋貼，弟弟吃了\\u30006\\u3000個鍋貼，兩個人共吃了幾個鍋貼？題目和答案可以怎麼記？\\u3000(Ａ)\\u30009＋8＝17\\u3000(Ｂ)\\u30008＋6＝14\\u3000(Ｃ)\\u30009＋6＝15。',\n",
       "  'output': '答案：(Ｂ) ',\n",
       "  'difficulty': '中',\n",
       "  'chapter': '1-1_基本加法'},\n",
       " {'input': '(   )下列哪一個算式答案是錯的？\\u3000(Ａ)\\u30005＋6＝12\\u3000(Ｂ)\\u30008＋5＝13\\u3000(Ｃ)\\u30005＋9＝14。',\n",
       "  'output': '答案：(Ａ) 解析：5＋6＝11 ',\n",
       "  'difficulty': '易',\n",
       "  'chapter': '1-1_基本加法'},\n",
       " {'input': '(   )下面哪一個算式的答案和\\u300010＋8\\u3000相同？\\u3000(Ａ)\\u30008＋8\\u3000(Ｂ)\\u30009＋9\\u3000(Ｃ)\\u300010＋9。',\n",
       "  'output': '答案：(Ｂ) 解析：10＋8＝18，(Ａ)\\u30008＋8＝16，(Ｂ)\\u30009＋9＝18，(Ｃ)\\u300010＋9＝19 ',\n",
       "  'difficulty': '中',\n",
       "  'chapter': '1-1_基本加法'},\n",
       " {'input': '(   )下面算式中，哪一個和其他算式的答案不同？\\u3000(Ａ)\\u30008＋6\\u3000(Ｂ)\\u30009＋5\\u3000(Ｃ)\\u30005＋8。',\n",
       "  'output': '答案：(Ｃ) 解析：(Ａ)\\u30008＋6＝14，(Ｂ)\\u30009＋5＝14，(Ｃ)\\u30005＋8＝13 ',\n",
       "  'difficulty': '中',\n",
       "  'chapter': '1-1_基本加法'},\n",
       " {'input': '(   )下面哪一個算式的和最大？\\u3000(Ａ)\\u30006＋7\\u3000(Ｂ)\\u30007＋5\\u3000(Ｃ)\\u30008＋4。',\n",
       "  'output': '答案：(Ａ) 解析：(Ａ)\\u30006＋7＝13，(Ｂ)\\u30007＋5＝12，(Ｃ)\\u30008＋4＝12 ',\n",
       "  'difficulty': '難',\n",
       "  'chapter': '1-1_基本加法'},\n",
       " {'input': '(   )下面哪一個算式的和最小？\\u3000(Ａ)\\u30006＋7\\u3000(Ｂ)\\u30008＋4\\u3000(Ｃ)\\u30009＋2。',\n",
       "  'output': '答案：(Ｃ) 解析：(Ａ)\\u30006＋7＝13，(Ｂ)\\u30008＋4＝12，(Ｃ)\\u30009＋2＝11 ',\n",
       "  'difficulty': '難',\n",
       "  'chapter': '1-1_基本加法'},\n",
       " {'input': '(   )一盒餅乾有\\u300012\\u3000片，弟弟吃\\u30005\\u3000片，妹妹吃\\u30006\\u3000片，兩人共吃幾片餅乾？\\u3000(Ａ)\\u30005\\u3000片\\u3000(Ｂ)\\u30006\\u3000片\\u3000(Ｃ)\\u300011\\u3000片。',\n",
       "  'output': '答案：(Ｃ) 解析：5＋6＝11 ',\n",
       "  'difficulty': '中',\n",
       "  'chapter': '1-1_基本加法'},\n",
       " {'input': '(   )光彥有\\u300016\\u3000顆糖果，給了步美\\u300010\\u3000顆，又給了柯南\\u30006\\u3000顆，後來步美把自己的\\u30007\\u3000顆糖果送給柯南，柯南有幾顆糖果？\\u3000(Ａ)\\u300011\\u3000顆\\u3000(Ｂ)\\u300012\\u3000顆\\u3000(Ｃ)\\u300013\\u3000顆。',\n",
       "  'output': '答案：(Ｃ) 解析：理解題意問“柯南”，所以光彥給柯南\\u30006\\u3000顆，步美給柯南\\u30007\\u3000顆，6＋7＝13 ',\n",
       "  'difficulty': '難',\n",
       "  'chapter': '1-1_基本加法'},\n",
       " {'input': '(   )柯柯昨天得到\\u30002\\u3000點超商點數，今天拉著爸爸去超商買東西集點數，爸爸花了\\u300015\\u3000元得到\\u300010\\u3000點超商點數，柯柯和爸爸共有幾點超商點數？\\u3000(Ａ)\\u300012\\u3000點\\u3000(Ｂ)\\u300011\\u3000點\\u3000(Ｃ)\\u300010\\u3000點。',\n",
       "  'output': '答案：(Ａ) 解析：問點數，注意單位，2＋10＝12 ',\n",
       "  'difficulty': '中',\n",
       "  'chapter': '1-1_基本加法'},\n",
       " {'input': '(   )9＋3＝12\\u3000算式中，被加數、加數分別是多少？\\u3000(Ａ)被加數是\\u30009，加數是\\u30003\\u3000(Ｂ)被加數是\\u30009，加數是\\u300012\\u3000(Ｃ)被加數是\\u30003，加數是\\u300012。',\n",
       "  'output': '答案：(Ａ) 解析：熟悉被加數、加數、和三者在算式中的位置  ',\n",
       "  'difficulty': '中',\n",
       "  'chapter': '1-1_基本加法'},\n",
       " {'input': '(   )熊大和兔兔在公園撿松果，熊大撿了\\u300010\\u3000顆，兔兔也撿了\\u30006\\u3000顆，熊大和兔兔兩人共撿了幾顆松果？\\u3000(Ａ)\\u300014\\u3000顆\\u3000(Ｂ)\\u300016\\u3000顆\\u3000(Ｃ)\\u300018\\u3000顆。',\n",
       "  'output': '答案：(Ｂ) 解析：10＋6＝16 ',\n",
       "  'difficulty': '易',\n",
       "  'chapter': '1-1_基本加法'},\n",
       " {'input': '(   )平平早上做了\\u30006\\u3000把扇子，下午做了\\u30008\\u3000把扇子，平平這一天共做了幾把扇子？\\u3000(Ａ)\\u30002\\u3000把\\u3000(Ｂ)\\u300012\\u3000把\\u3000(Ｃ)\\u300014\\u3000把。',\n",
       "  'output': '答案：(Ｃ) 解析：6＋8＝14 ',\n",
       "  'difficulty': '易',\n",
       "  'chapter': '1-1_基本加法'},\n",
       " {'input': '(   )小明到夜市玩棒球九宮格的遊戲，第一球投中了\\u30004\\u3000分，第二球投中了\\u30009\\u3000分，小明一共投中了幾分？\\u3000(Ａ)\\u300013\\u3000分\\u3000(Ｂ)\\u300014\\u3000分\\u3000(Ｃ)\\u300015\\u3000分。',\n",
       "  'output': '答案：(Ａ) 解析：4＋9＝13 ',\n",
       "  'difficulty': '中',\n",
       "  'chapter': '1-1_基本加法'}]"
      ]
     },
     "execution_count": 14,
     "metadata": {},
     "output_type": "execute_result"
    }
   ],
   "source": [
    "from docx import Document\n",
    "\n",
    "def generate_dataset(file_path):\n",
    "    print(file_path)\n",
    "    doc = Document(file_path)\n",
    "    #print('段落數量： ', len(doc.paragraphs))\n",
    "    idx = 0\n",
    "    dataset = []\n",
    "    chapter = doc.paragraphs[2].text\n",
    "    while idx < len(doc.paragraphs):\n",
    "        \n",
    "        if doc.paragraphs[idx].text[:3] != \"編號：\": \n",
    "            idx += 1\n",
    "            continue\n",
    "        question = {}\n",
    "        input, output, difficulty = \"\", \"\", doc.paragraphs[idx].text.split(\"難易度：\")[-1]\n",
    "        idx += 1\n",
    "        while idx < len(doc.paragraphs) and doc.paragraphs[idx].text[:3] != \"答案：\":\n",
    "            input += doc.paragraphs[idx].text\n",
    "            idx += 1\n",
    "        while idx < len(doc.paragraphs) and doc.paragraphs[idx].text[:5] != \"認知向度：\":\n",
    "            output += doc.paragraphs[idx].text + \" \"\n",
    "            idx += 1\n",
    "        question[\"input\"] = input\n",
    "        question[\"output\"] = output\n",
    "        question[\"difficulty\"] = difficulty\n",
    "        question[\"chapter\"] = chapter\n",
    "        dataset.append(question)\n",
    "        \n",
    "    return dataset\n",
    "\n",
    "generate_dataset(\"E:\\\\HanlinMath\\\\ElementarySchool\\\\grade1_2\\\\1_1.docx\")"
   ]
  },
  {
   "cell_type": "markdown",
   "metadata": {},
   "source": [
    "#### dict -> csv"
   ]
  },
  {
   "cell_type": "code",
   "execution_count": 19,
   "metadata": {},
   "outputs": [],
   "source": [
    "import csv\n",
    "def write_csv(datasets, file_path):\n",
    "    with open(file_path, 'w+', encoding='utf-8', newline='') as f:\n",
    "        fieldnames = ['input', 'output', 'difficulty', 'chapter']\n",
    "        writer = csv.DictWriter(f, fieldnames=fieldnames)\n",
    "        writer.writeheader()\n",
    "        for dataset in datasets:\n",
    "            for data in dataset:\n",
    "                writer.writerow(data)\n",
    "    print('Save data in ' + file_path)"
   ]
  },
  {
   "cell_type": "code",
   "execution_count": 31,
   "metadata": {},
   "outputs": [
    {
     "name": "stdout",
     "output_type": "stream",
     "text": [
      "E:\\HanlinMath\\ElementarySchool\\grade3_2\\1-1.docx\n",
      "E:\\HanlinMath\\ElementarySchool\\grade3_2\\1-2.docx\n",
      "E:\\HanlinMath\\ElementarySchool\\grade3_2\\2-1.docx\n",
      "E:\\HanlinMath\\ElementarySchool\\grade3_2\\2-2.docx\n",
      "E:\\HanlinMath\\ElementarySchool\\grade3_2\\2-3.docx\n",
      "E:\\HanlinMath\\ElementarySchool\\grade3_2\\2-4.docx\n",
      "E:\\HanlinMath\\ElementarySchool\\grade3_2\\4-1.docx\n",
      "E:\\HanlinMath\\ElementarySchool\\grade3_2\\4-2.docx\n",
      "E:\\HanlinMath\\ElementarySchool\\grade3_2\\5-1.docx\n",
      "E:\\HanlinMath\\ElementarySchool\\grade3_2\\5-2.docx\n",
      "E:\\HanlinMath\\ElementarySchool\\grade3_2\\6-1.docx\n",
      "E:\\HanlinMath\\ElementarySchool\\grade3_2\\6-2.docx\n",
      "E:\\HanlinMath\\ElementarySchool\\grade3_2\\6-3.docx\n",
      "E:\\HanlinMath\\ElementarySchool\\grade3_2\\7-1.docx\n",
      "E:\\HanlinMath\\ElementarySchool\\grade3_2\\7-2.docx\n",
      "E:\\HanlinMath\\ElementarySchool\\grade3_2\\7-3.docx\n",
      "E:\\HanlinMath\\ElementarySchool\\grade3_2\\7-4.docx\n",
      "E:\\HanlinMath\\ElementarySchool\\grade3_2\\8-1.docx\n",
      "E:\\HanlinMath\\ElementarySchool\\grade3_2\\8-2.docx\n",
      "E:\\HanlinMath\\ElementarySchool\\grade3_2\\9-1.docx\n",
      "E:\\HanlinMath\\ElementarySchool\\grade3_2\\9-2.docx\n",
      "E:\\HanlinMath\\ElementarySchool\\grade3_2\\9-3.docx\n",
      "Save data in dataset\\grade3_2.csv\n"
     ]
    }
   ],
   "source": [
    "file_path = 'E:\\\\HanlinMath\\\\ElementarySchool\\\\grade3_2'\n",
    "files = list_files(file_path)\n",
    "datasets = []\n",
    "for file in files:\n",
    "    datasets.append(generate_dataset(file))\n",
    "\n",
    "save_path = 'dataset\\\\' + file_path.split('\\\\')[-1] + '.csv'\n",
    "write_csv(datasets, save_path)"
   ]
  },
  {
   "cell_type": "markdown",
   "metadata": {},
   "source": [
    "### LangSmith Evaluation"
   ]
  },
  {
   "cell_type": "code",
   "execution_count": null,
   "metadata": {},
   "outputs": [],
   "source": [
    "from langsmith import Client\n",
    "client = Client()\n",
    "file = \"grade2_2\"\n",
    "\n",
    "dataset = client.upload_csv(\n",
    "    csv_file = f\"dataset\\\\{file}.csv\",\n",
    "    input_keys = ['input', 'chapter', 'difficulty'],\n",
    "    output_keys = ['output'],\n",
    "    name = file,\n",
    "    description = f\"Hanlin Math of {file}\",\n",
    "    data_type = \"kv\"\n",
    ")"
   ]
  },
  {
   "cell_type": "markdown",
   "metadata": {},
   "source": [
    "#### old version"
   ]
  },
  {
   "cell_type": "code",
   "execution_count": 5,
   "metadata": {},
   "outputs": [
    {
     "name": "stderr",
     "output_type": "stream",
     "text": [
      "c:\\Users\\123\\OneDrive\\Documents\\GitHub\\qsticker_gpt_server\\gpt_server\\Lib\\site-packages\\langchain_core\\_api\\deprecation.py:119: LangChainDeprecationWarning: The class `LLMChain` was deprecated in LangChain 0.1.17 and will be removed in 0.3.0. Use RunnableSequence, e.g., `prompt | llm` instead.\n",
      "  warn_deprecated(\n"
     ]
    }
   ],
   "source": [
    "import langsmith\n",
    "from langchain import smith\n",
    "from langchain_openai import ChatOpenAI\n",
    "from src.dependencies.settings import get_settings\n",
    "from src.service.math_solver import MathSolver\n",
    "\n",
    "# Define your runnable or chain below.\n",
    "math_solver = MathSolver(model=\"gpt-4-1106-preview\", temperature=0)\n",
    "\n",
    "# Define the evaluators to apply\n",
    "eval_config = smith.RunEvalConfig(\n",
    "    evaluators=[\n",
    "        \"qa\",\n",
    "        \"context_qa\",\n",
    "        \"cot_qa\",\n",
    "#        smith.RunEvalConfig.LabeledCriteria(\"helpfulness\"),\n",
    "#        smith.RunEvalConfig.LabeledCriteria(\"conciseness\")\n",
    "    ],\n",
    "    custom_evaluators=[],\n",
    "    eval_llm = ChatOpenAI(model=\"gpt-3.5-turbo\", \n",
    "        temperature=0, \n",
    "        openai_api_key=get_settings().gpt_secret_key\n",
    "    )\n",
    ")\n",
    "\n",
    "client = langsmith.Client()\n",
    "\n",
    "def run(dataset):\n",
    "    return client.run_on_dataset(\n",
    "        dataset_name=dataset,\n",
    "        llm_or_chain_factory=math_solver.agent,\n",
    "        evaluation=eval_config,\n",
    "        project_name=\"QSticker Math APP evaluation\",\n",
    "        concurrency_level=3,\n",
    "        verbose=True,\n",
    "    )"
   ]
  },
  {
   "cell_type": "markdown",
   "metadata": {},
   "source": [
    "#### new version"
   ]
  },
  {
   "cell_type": "code",
   "execution_count": 6,
   "metadata": {},
   "outputs": [],
   "source": [
    "from langsmith.evaluation import LangChainStringEvaluator, evaluate\n",
    "math_solver = MathSolver(model=\"gpt-4-1106-preview\", temperature=0)\n",
    "eval_llm = ChatOpenAI(model=\"gpt-3.5-turbo\", \n",
    "    temperature=0, \n",
    "    openai_api_key=get_settings().gpt_secret_key\n",
    ")\n",
    "qa_evaluator = LangChainStringEvaluator(\n",
    "    \"qa\", \n",
    "    config={\"llm\": eval_llm},\n",
    "    prepare_data=lambda run, example: {\n",
    "        \"prediction\": run.outputs[\"output\"],\n",
    "        \"reference\": example.outputs[\"output\"],\n",
    "        \"input\": example.inputs[\"input\"],\n",
    "    }\n",
    ")  \n",
    "context_qa_evaluator = LangChainStringEvaluator(\n",
    "    \"context_qa\", \n",
    "    config={\"llm\": eval_llm},\n",
    "    prepare_data=lambda run, example: {\n",
    "        \"prediction\": run.outputs[\"output\"],\n",
    "        \"reference\": example.outputs[\"output\"],\n",
    "        \"input\": example.inputs[\"input\"],\n",
    "    }\n",
    ")\n",
    "cot_qa_evaluator = LangChainStringEvaluator(\n",
    "    \"cot_qa\", \n",
    "    config={\"llm\": eval_llm},\n",
    "    prepare_data=lambda run, example: {\n",
    "        \"prediction\": run.outputs[\"output\"],\n",
    "        \"reference\": example.outputs[\"output\"],\n",
    "        \"input\": example.inputs[\"input\"],\n",
    "    }\n",
    ")\n",
    "\n",
    "def run_evaluate(dataset):\n",
    "    return evaluate(\n",
    "        lambda x: math_solver.agent.invoke(x),\n",
    "        data=dataset,\n",
    "        evaluators = [qa_evaluator, context_qa_evaluator, cot_qa_evaluator],\n",
    "        experiment_prefix=\"Hanlin Math Elementary \" + dataset,\n",
    "        max_concurrency=5,\n",
    "    )"
   ]
  },
  {
   "cell_type": "code",
   "execution_count": null,
   "metadata": {},
   "outputs": [],
   "source": [
    "run_evaluate(\"grade2_1\")"
   ]
  },
  {
   "cell_type": "markdown",
   "metadata": {},
   "source": [
    "### 自訂 Evaluator"
   ]
  },
  {
   "cell_type": "code",
   "execution_count": 2,
   "metadata": {},
   "outputs": [],
   "source": [
    "import csv\n",
    "def read_csv(file_path):\n",
    "    with open(file_path, mode='r', newline='', encoding='utf-8') as file:\n",
    "        reader = csv.reader(file)\n",
    "        data = [row for row in reader if row]\n",
    "    #print(len(data) - 1, data[:3])\n",
    "    return data"
   ]
  },
  {
   "cell_type": "code",
   "execution_count": 3,
   "metadata": {},
   "outputs": [],
   "source": [
    "import csv\n",
    "def write_result_csv(data, file_path):\n",
    "    with open(file_path, 'w+', encoding='utf-8', newline='') as f:\n",
    "        writer = csv.writer(f)\n",
    "        for row in data:\n",
    "            writer.writerow(row)\n",
    "    print('Save data in ' + file_path)"
   ]
  },
  {
   "cell_type": "code",
   "execution_count": 4,
   "metadata": {},
   "outputs": [
    {
     "name": "stderr",
     "output_type": "stream",
     "text": [
      "c:\\Users\\123\\OneDrive\\Documents\\GitHub\\qsticker_gpt_server\\gpt_server\\Lib\\site-packages\\langchain_core\\_api\\deprecation.py:119: LangChainDeprecationWarning: The class `LLMChain` was deprecated in LangChain 0.1.17 and will be removed in 0.3.0. Use RunnableSequence, e.g., `prompt | llm` instead.\n",
      "  warn_deprecated(\n"
     ]
    }
   ],
   "source": [
    "import time\n",
    "from tqdm.notebook import tqdm\n",
    "from langchain.callbacks import get_openai_callback\n",
    "from src.service.math_solver import MathSolver\n",
    "from src.service.question_evaluator import QuestionEvaluator\n",
    "from src.service.translator import Translator\n",
    "\n",
    "math_solver = MathSolver(model=\"gpt-4o-2024-05-13\", temperature=0)\n",
    "evaluator = QuestionEvaluator(model=\"gpt-4o-2024-05-13\", temperature=0)\n",
    "translator = Translator(model=\"gpt-4o-2024-05-13\", temperature=0, lang='zh-TW')\n",
    "\n",
    "def my_evaluator(dataset):\n",
    "    labels = ['question', 'true_answer', 'difficulty', 'chapter', 'generated_answer', 'ans_tokens', 'ans_cost', 'ans_time', 'qa_evaluate', 'qa_reply', 'cot_evaluate', 'cot_reply', 'tot_tokens', 'tot_cost']\n",
    "    result = [labels]\n",
    "    pbar = tqdm(total=len(dataset))\n",
    "    tot_tokens, tot_cost = 0, 0.\n",
    "    for question, answer, difficulty, chapter in dataset:\n",
    "        try:\n",
    "            with get_openai_callback() as cb:\n",
    "                start_time = time.time()\n",
    "                gen_ans = math_solver.agent.invoke({\"input\": MathSolver.SAQ_prompt(question)})[\"output\"].replace('\\n', ' ')\n",
    "                end_time = time.time()\n",
    "                ans_tokens, ans_cost = cb.total_tokens, cb.total_cost\n",
    "                qa = evaluator.reply(evaluator.QA_context_prompt(question, answer, gen_ans)).replace('\\n', ' ')\n",
    "                qa_eval = True if 'CORRECT' in qa and 'INCORRECT' not in qa else False\n",
    "                cot = evaluator.reply(evaluator.cot_context_prompt(question, answer, gen_ans)).replace('\\n', ' ')\n",
    "                cot_eval = True if 'CORRECT' in cot and 'INCORRECT' not in cot else False\n",
    "                result.append([question, answer, difficulty, chapter, gen_ans, ans_tokens, ans_cost, end_time - start_time, qa_eval, qa, cot_eval, cot, cb.total_tokens, cb.total_cost])\n",
    "                tot_tokens += cb.total_tokens\n",
    "                tot_cost += cb.total_cost\n",
    "        except:\n",
    "            result.append([question, answer, difficulty, chapter, 'ERROR', 0, 0, 0, False, None, False, None, 0, 0])\n",
    "        pbar.update(1)\n",
    "\n",
    "    print('Total tokens: ', tot_tokens, ', total cost: ', tot_cost)\n",
    "    return result"
   ]
  },
  {
   "cell_type": "code",
   "execution_count": 10,
   "metadata": {},
   "outputs": [
    {
     "data": {
      "application/vnd.jupyter.widget-view+json": {
       "model_id": "d6212ad0befd4605a4bfccff374df74c",
       "version_major": 2,
       "version_minor": 0
      },
      "text/plain": [
       "  0%|          | 0/86 [00:00<?, ?it/s]"
      ]
     },
     "metadata": {},
     "output_type": "display_data"
    },
    {
     "name": "stderr",
     "output_type": "stream",
     "text": [
      "Error in LangChainTracer.on_tool_end callback: TracerException(\"Found chain run at ID d17d0a45-ac55-4a10-af26-1f32028ade28, but expected {'tool'} run.\")\n",
      "Error in LangChainTracer.on_tool_end callback: TracerException(\"Found chain run at ID 6507ffff-605e-4e94-a78d-dbf6a48d2567, but expected {'tool'} run.\")\n",
      "Error in LangChainTracer.on_tool_end callback: TracerException(\"Found chain run at ID 3a5735a9-43d6-4b6f-adb6-9fcd887a8bce, but expected {'tool'} run.\")\n",
      "Error in LangChainTracer.on_tool_end callback: TracerException(\"Found chain run at ID ed048dc3-429c-46d1-9f21-7c87ccf2371e, but expected {'tool'} run.\")\n",
      "Error in LangChainTracer.on_tool_end callback: TracerException(\"Found chain run at ID 62d96b21-f563-4d2b-91f6-15c552787840, but expected {'tool'} run.\")\n",
      "Error in LangChainTracer.on_tool_end callback: TracerException(\"Found chain run at ID 553e1c54-422d-45a2-b9f2-86957bec5aca, but expected {'tool'} run.\")\n",
      "Error in LangChainTracer.on_tool_end callback: TracerException(\"Found chain run at ID 6e17f33d-01a9-45c5-a504-c7d2a0cfe56b, but expected {'tool'} run.\")\n",
      "Error in LangChainTracer.on_tool_end callback: TracerException(\"Found chain run at ID f33e9e00-4378-43cc-ad08-be05671c9c32, but expected {'tool'} run.\")\n",
      "Error in LangChainTracer.on_tool_end callback: TracerException(\"Found chain run at ID 701d6b4c-2cfd-4d5a-be85-8a977866eb4a, but expected {'tool'} run.\")\n",
      "Error in LangChainTracer.on_tool_end callback: TracerException(\"Found chain run at ID afa3bbc8-61e5-42bd-ba2f-fd61588977cf, but expected {'tool'} run.\")\n",
      "Error in LangChainTracer.on_tool_end callback: TracerException(\"Found chain run at ID 5dd8cd68-e958-45d5-9252-1ed62a5c28e9, but expected {'tool'} run.\")\n",
      "Error in LangChainTracer.on_tool_end callback: TracerException(\"Found chain run at ID 4ef0f4a6-171d-4032-a622-68f8756b630d, but expected {'tool'} run.\")\n",
      "Error in LangChainTracer.on_tool_end callback: TracerException(\"Found chain run at ID cedac9e2-98aa-4f01-87b3-9606227219d9, but expected {'tool'} run.\")\n",
      "Error in LangChainTracer.on_tool_end callback: TracerException(\"Found chain run at ID 91b23129-aeae-4d9b-bbb3-b185cf4f7556, but expected {'tool'} run.\")\n",
      "Error in LangChainTracer.on_tool_end callback: TracerException(\"Found chain run at ID 4e4e34fd-533c-45d0-b4df-34926b6b366b, but expected {'tool'} run.\")\n",
      "Error in LangChainTracer.on_tool_end callback: TracerException(\"Found chain run at ID 69530dda-9e24-4eba-8e03-decee75f0fcd, but expected {'tool'} run.\")\n",
      "Error in LangChainTracer.on_tool_end callback: TracerException(\"Found chain run at ID 99c356d1-fc9b-463f-ae81-dceb43d27fab, but expected {'tool'} run.\")\n",
      "Error in LangChainTracer.on_tool_end callback: TracerException(\"Found chain run at ID b5db4162-7ca8-4901-a8a0-406b114e1d4d, but expected {'tool'} run.\")\n",
      "Error in LangChainTracer.on_tool_end callback: TracerException(\"Found chain run at ID 45a61888-c5c3-4fd3-8c57-ecae916a6f09, but expected {'tool'} run.\")\n",
      "Error in LangChainTracer.on_tool_end callback: TracerException(\"Found chain run at ID 60b9726a-cc76-494b-b0b4-a96b4cba715f, but expected {'tool'} run.\")\n",
      "Error in LangChainTracer.on_tool_end callback: TracerException(\"Found chain run at ID 698aceff-44fb-45ba-a1df-47115de378fe, but expected {'tool'} run.\")\n",
      "Error in LangChainTracer.on_tool_end callback: TracerException(\"Found chain run at ID 3bba2030-370c-40ff-8a12-a9f166e2f6c8, but expected {'tool'} run.\")\n",
      "Error in LangChainTracer.on_tool_end callback: TracerException(\"Found chain run at ID 83b463a1-4b74-49e4-aa09-dc388a062dfb, but expected {'tool'} run.\")\n",
      "Error in LangChainTracer.on_tool_end callback: TracerException(\"Found chain run at ID 82ef5df5-b2a8-4f7a-bb89-84c9c5daf090, but expected {'tool'} run.\")\n",
      "Error in LangChainTracer.on_tool_end callback: TracerException(\"Found chain run at ID ce865886-0873-4126-adfa-ae3b2fd80c27, but expected {'tool'} run.\")\n",
      "Error in LangChainTracer.on_tool_end callback: TracerException(\"Found chain run at ID d75ca7e6-1661-4e35-b0e8-cfc148247095, but expected {'tool'} run.\")\n",
      "Error in LangChainTracer.on_tool_end callback: TracerException(\"Found chain run at ID 74e0ca4a-e0e6-4e60-a6ee-f5586c659d31, but expected {'tool'} run.\")\n",
      "Error in LangChainTracer.on_tool_end callback: TracerException(\"Found chain run at ID 339fc254-f219-4ad2-b9a6-d8b64efd8b62, but expected {'tool'} run.\")\n",
      "Error in LangChainTracer.on_tool_end callback: TracerException(\"Found chain run at ID c4a1fee4-7d54-46f8-b827-4808f3aa554d, but expected {'tool'} run.\")\n",
      "Error in LangChainTracer.on_tool_end callback: TracerException(\"Found chain run at ID 345761d0-8e04-4787-bbe9-3c2c90c6a0d9, but expected {'tool'} run.\")\n",
      "Error in LangChainTracer.on_tool_end callback: TracerException(\"Found chain run at ID 569a28bd-480d-4c5a-918d-715aaca91b35, but expected {'tool'} run.\")\n",
      "Error in LangChainTracer.on_tool_end callback: TracerException(\"Found chain run at ID 6e264ef0-e348-4448-9cbe-888c029d1148, but expected {'tool'} run.\")\n",
      "Error in LangChainTracer.on_tool_end callback: TracerException(\"Found chain run at ID 932f3069-cada-4415-8593-05af6489ce05, but expected {'tool'} run.\")\n",
      "Error in LangChainTracer.on_tool_end callback: TracerException(\"Found chain run at ID dbc8dc34-ddcb-48ea-a0ff-29042b451414, but expected {'tool'} run.\")\n",
      "Error in LangChainTracer.on_tool_end callback: TracerException(\"Found chain run at ID 6bf00fe5-3cd7-4576-bac9-8ad9aee6a463, but expected {'tool'} run.\")\n",
      "Error in LangChainTracer.on_tool_end callback: TracerException(\"Found chain run at ID e402d90b-3399-442d-8c87-d5706774ab62, but expected {'tool'} run.\")\n",
      "Error in LangChainTracer.on_tool_end callback: TracerException(\"Found chain run at ID be1daaa6-fa19-4942-8c59-0acc381bcace, but expected {'tool'} run.\")\n",
      "Error in LangChainTracer.on_tool_end callback: TracerException(\"Found chain run at ID 4e4cae7c-e7dd-4491-94c7-db186dd0cea8, but expected {'tool'} run.\")\n",
      "Error in LangChainTracer.on_tool_end callback: TracerException(\"Found chain run at ID 14ebf16d-42e5-407f-851c-566f0aa58c37, but expected {'tool'} run.\")\n",
      "Error in LangChainTracer.on_tool_end callback: TracerException(\"Found chain run at ID 20534d52-4602-4607-a085-43319b2223c9, but expected {'tool'} run.\")\n",
      "Error in LangChainTracer.on_tool_end callback: TracerException(\"Found chain run at ID c4cccf02-d35f-45a5-a7bf-3aea38b896c8, but expected {'tool'} run.\")\n",
      "Error in LangChainTracer.on_tool_end callback: TracerException(\"Found chain run at ID f8bb6663-0e68-425f-ba94-ef7523b468d6, but expected {'tool'} run.\")\n",
      "Error in LangChainTracer.on_tool_end callback: TracerException(\"Found chain run at ID b55cd788-996d-43bc-a693-b0c461e01543, but expected {'tool'} run.\")\n",
      "Error in LangChainTracer.on_tool_end callback: TracerException(\"Found chain run at ID 0b40dd41-d566-4504-b67e-d1ed3ad1b5fa, but expected {'tool'} run.\")\n",
      "Error in LangChainTracer.on_tool_end callback: TracerException(\"Found chain run at ID 3f443f91-819e-47c7-aee0-5de754a2f23a, but expected {'tool'} run.\")\n",
      "Error in LangChainTracer.on_tool_end callback: TracerException(\"Found chain run at ID 17428943-25b9-4a6f-b81e-b85c8a681e4b, but expected {'tool'} run.\")\n",
      "Error in LangChainTracer.on_tool_end callback: TracerException(\"Found chain run at ID 836a63f0-5c5d-40bb-97a1-e2eb7ba4f3b9, but expected {'tool'} run.\")\n",
      "Error in LangChainTracer.on_tool_end callback: TracerException(\"Found chain run at ID f46d4f92-c075-418e-84c6-84317b55cefb, but expected {'tool'} run.\")\n",
      "Error in LangChainTracer.on_tool_end callback: TracerException(\"Found chain run at ID 0e70e26d-c088-45df-8ab6-c62813aa34aa, but expected {'tool'} run.\")\n",
      "Error in LangChainTracer.on_tool_end callback: TracerException(\"Found chain run at ID c5cad0de-42a8-482b-b373-1d4fe6c8d1f7, but expected {'tool'} run.\")\n",
      "Error in LangChainTracer.on_tool_end callback: TracerException(\"Found chain run at ID d74cfb88-abd9-4128-b1ce-6a3fe42832b4, but expected {'tool'} run.\")\n",
      "Error in LangChainTracer.on_tool_end callback: TracerException(\"Found chain run at ID 0ea3713e-bd74-4277-815c-947d0b98aedb, but expected {'tool'} run.\")\n",
      "Error in LangChainTracer.on_tool_end callback: TracerException(\"Found chain run at ID 994508f7-badb-417a-baf4-8feaeb5fa0c4, but expected {'tool'} run.\")\n",
      "Error in LangChainTracer.on_tool_end callback: TracerException(\"Found chain run at ID 2a33e8de-202b-44bf-8c00-7ad665b784e7, but expected {'tool'} run.\")\n",
      "Error in LangChainTracer.on_tool_end callback: TracerException(\"Found chain run at ID 13ee000c-bbd7-489d-a61d-c92f6b4e6ef2, but expected {'tool'} run.\")\n",
      "Error in LangChainTracer.on_tool_end callback: TracerException(\"Found chain run at ID 6e82bdc5-ab0a-447b-9057-48c5e5155950, but expected {'tool'} run.\")\n",
      "Error in LangChainTracer.on_tool_end callback: TracerException(\"Found chain run at ID 4b93a225-c3c0-4b53-9ebf-2104044b3005, but expected {'tool'} run.\")\n",
      "Error in LangChainTracer.on_tool_end callback: TracerException(\"Found chain run at ID dbc8c547-92c8-4f8d-8889-95210e28e5f0, but expected {'tool'} run.\")\n",
      "Error in LangChainTracer.on_tool_end callback: TracerException(\"Found chain run at ID d196ddf8-94f1-4f38-8d71-06a3c1a88893, but expected {'tool'} run.\")\n",
      "Error in LangChainTracer.on_tool_end callback: TracerException(\"Found chain run at ID ffac01e7-360c-4b4e-8280-b429caf38d88, but expected {'tool'} run.\")\n",
      "Error in LangChainTracer.on_tool_end callback: TracerException(\"Found chain run at ID dc96ee48-cc74-41a2-855a-1c83a91fcccd, but expected {'tool'} run.\")\n",
      "Error in LangChainTracer.on_tool_end callback: TracerException(\"Found chain run at ID 1f241eb8-365b-4598-896e-a501f58ddd7b, but expected {'tool'} run.\")\n",
      "Error in LangChainTracer.on_tool_end callback: TracerException(\"Found chain run at ID 0b8ec3ea-f4d7-4c23-9ad3-2b205244a093, but expected {'tool'} run.\")\n",
      "Error in LangChainTracer.on_tool_end callback: TracerException(\"Found chain run at ID f03e7939-83fb-49e9-bca2-0366cc318a10, but expected {'tool'} run.\")\n",
      "Error in LangChainTracer.on_tool_end callback: TracerException(\"Found chain run at ID 4d2816e5-e096-4d9a-8cbb-41bce9af60aa, but expected {'tool'} run.\")\n",
      "Error in LangChainTracer.on_tool_end callback: TracerException(\"Found chain run at ID 9a73295e-0d97-4ddd-b74c-32be16afbf40, but expected {'tool'} run.\")\n",
      "Error in LangChainTracer.on_tool_end callback: TracerException(\"Found chain run at ID afb7c399-0dcd-492b-bd6d-499e00cdb338, but expected {'tool'} run.\")\n",
      "Error in LangChainTracer.on_tool_end callback: TracerException(\"Found chain run at ID f278de29-f33b-416a-be9d-c0ceec32fe4a, but expected {'tool'} run.\")\n",
      "Error in LangChainTracer.on_tool_end callback: TracerException(\"Found chain run at ID b6b76dd0-cecc-4481-8ca6-9abcfefc4c6c, but expected {'tool'} run.\")\n",
      "Error in LangChainTracer.on_tool_end callback: TracerException(\"Found chain run at ID 6fe83f5b-a938-435d-a06d-ed5c5a04b715, but expected {'tool'} run.\")\n",
      "Error in LangChainTracer.on_tool_end callback: TracerException(\"Found chain run at ID c9863b3b-2745-4fe6-8e57-a18097b7b0d6, but expected {'tool'} run.\")\n",
      "Error in LangChainTracer.on_tool_end callback: TracerException(\"Found chain run at ID 5243aaab-38c4-4e97-a075-226c21ac6912, but expected {'tool'} run.\")\n",
      "Error in LangChainTracer.on_tool_end callback: TracerException(\"Found chain run at ID a5925b18-b168-4eb8-9385-5f74b35de54b, but expected {'tool'} run.\")\n",
      "Error in LangChainTracer.on_tool_end callback: TracerException(\"Found chain run at ID ba5556d1-4adb-4549-8c6c-2d3eae4cd489, but expected {'tool'} run.\")\n",
      "Error in LangChainTracer.on_tool_end callback: TracerException(\"Found chain run at ID 6fdcc883-905e-4b0e-9f6c-371061e02226, but expected {'tool'} run.\")\n",
      "Error in LangChainTracer.on_tool_end callback: TracerException(\"Found chain run at ID 03f7928a-2c70-4ff2-8b6d-bceb93dc7970, but expected {'tool'} run.\")\n",
      "Error in LangChainTracer.on_tool_end callback: TracerException(\"Found chain run at ID d752e97c-700e-4815-a83b-57be3152c501, but expected {'tool'} run.\")\n",
      "Error in LangChainTracer.on_tool_end callback: TracerException(\"Found chain run at ID 14d67fe4-3162-44eb-aa57-14301f8cfbd8, but expected {'tool'} run.\")\n",
      "Error in LangChainTracer.on_tool_end callback: TracerException(\"Found chain run at ID bda0b65e-fb1e-456f-8ae0-0247d5b8d66f, but expected {'tool'} run.\")\n",
      "Error in LangChainTracer.on_tool_end callback: TracerException(\"Found chain run at ID 81c278ff-6bd0-4fdf-9487-b78106891692, but expected {'tool'} run.\")\n",
      "Error in LangChainTracer.on_tool_end callback: TracerException(\"Found chain run at ID 4450c65f-feef-4ec8-93d3-8e89ffb19aae, but expected {'tool'} run.\")\n",
      "Error in LangChainTracer.on_tool_end callback: TracerException(\"Found chain run at ID 4cd5ea27-b920-4844-ac26-552447bd2e17, but expected {'tool'} run.\")\n",
      "Error in LangChainTracer.on_tool_end callback: TracerException(\"Found chain run at ID f9709e95-113c-40eb-a214-1a1bd58ad4b1, but expected {'tool'} run.\")\n",
      "Error in LangChainTracer.on_tool_end callback: TracerException(\"Found chain run at ID 4c82a649-97d1-4a2a-903b-ea23b060ac3f, but expected {'tool'} run.\")\n",
      "Error in LangChainTracer.on_tool_end callback: TracerException(\"Found chain run at ID aaf690ba-f5e6-4ca1-99c5-fb55858d06f5, but expected {'tool'} run.\")\n",
      "Error in LangChainTracer.on_tool_end callback: TracerException(\"Found chain run at ID 0adf814f-f53e-424a-a625-668a63e760b5, but expected {'tool'} run.\")\n",
      "Error in LangChainTracer.on_tool_end callback: TracerException(\"Found chain run at ID 96a754c1-6b67-49b7-a8ec-f6988039d2c9, but expected {'tool'} run.\")\n",
      "Error in LangChainTracer.on_tool_end callback: TracerException(\"Found chain run at ID c32eb0eb-7afa-47ea-82d4-7267453b3115, but expected {'tool'} run.\")\n",
      "Error in LangChainTracer.on_tool_end callback: TracerException(\"Found chain run at ID ff8b6427-2c06-4b45-b614-3b7a77262bcc, but expected {'tool'} run.\")\n",
      "Error in LangChainTracer.on_tool_end callback: TracerException(\"Found chain run at ID 95e0cd5b-238b-4f10-bc52-d92b4cac4f49, but expected {'tool'} run.\")\n",
      "Error in LangChainTracer.on_tool_end callback: TracerException(\"Found chain run at ID ffd2226b-ff3e-4956-b446-e65774b97c66, but expected {'tool'} run.\")\n",
      "Error in LangChainTracer.on_tool_end callback: TracerException(\"Found chain run at ID 0c4ea798-43fa-4b07-813e-9dda8e4884c6, but expected {'tool'} run.\")\n",
      "Error in LangChainTracer.on_tool_end callback: TracerException(\"Found chain run at ID 478e189b-7ab1-4489-821b-3c405f615b42, but expected {'tool'} run.\")\n",
      "Error in LangChainTracer.on_tool_end callback: TracerException(\"Found chain run at ID 037f8891-2661-49c9-a1e1-d66947dfeb95, but expected {'tool'} run.\")\n",
      "Error in LangChainTracer.on_tool_end callback: TracerException(\"Found chain run at ID b370564d-447f-4461-9754-5717f813ec2d, but expected {'tool'} run.\")\n",
      "Error in LangChainTracer.on_tool_end callback: TracerException(\"Found chain run at ID e6db80ca-2a8e-4f7f-93a9-2edeb5a7edea, but expected {'tool'} run.\")\n",
      "Error in LangChainTracer.on_tool_end callback: TracerException(\"Found chain run at ID ff94fa37-6ce1-4367-992f-8f1b55021be9, but expected {'tool'} run.\")\n",
      "Error in LangChainTracer.on_tool_end callback: TracerException(\"Found chain run at ID eae4b471-3ee3-4360-a023-b5032a6494a2, but expected {'tool'} run.\")\n",
      "Error in LangChainTracer.on_tool_end callback: TracerException(\"Found chain run at ID d66f223d-c231-45bd-98d1-fa56a5a8bc22, but expected {'tool'} run.\")\n",
      "Error in LangChainTracer.on_tool_end callback: TracerException(\"Found chain run at ID 9526ece3-321d-433a-9c2d-e231295db057, but expected {'tool'} run.\")\n",
      "Error in LangChainTracer.on_tool_end callback: TracerException(\"Found chain run at ID 2da463ca-08c0-442d-8be4-70fe688c9128, but expected {'tool'} run.\")\n",
      "Error in LangChainTracer.on_tool_end callback: TracerException(\"Found chain run at ID 61fa2552-4af4-417b-8301-37affebace3b, but expected {'tool'} run.\")\n",
      "Error in LangChainTracer.on_tool_end callback: TracerException(\"Found chain run at ID 067b832d-3070-46ff-b52f-379280a4daa8, but expected {'tool'} run.\")\n",
      "Error in LangChainTracer.on_tool_end callback: TracerException(\"Found chain run at ID de6afb45-c7de-46a6-a6ea-84b4f9ffd6d3, but expected {'tool'} run.\")\n",
      "Error in LangChainTracer.on_tool_end callback: TracerException(\"Found chain run at ID a37dfa86-052b-41c3-90c1-950144684508, but expected {'tool'} run.\")\n",
      "Error in LangChainTracer.on_tool_end callback: TracerException(\"Found chain run at ID f92aa1a9-e1bf-433b-ae28-705280560410, but expected {'tool'} run.\")\n",
      "Error in LangChainTracer.on_tool_end callback: TracerException(\"Found chain run at ID 92c780be-c55a-4bf0-8fc5-1f72cbcbfa42, but expected {'tool'} run.\")\n",
      "Error in LangChainTracer.on_tool_end callback: TracerException(\"Found chain run at ID 7d3060e2-bfa9-4997-af5c-af46d00f3b62, but expected {'tool'} run.\")\n",
      "Error in LangChainTracer.on_tool_end callback: TracerException(\"Found chain run at ID b4d0e7bf-39ac-4967-9cfc-cfb1b4c997b1, but expected {'tool'} run.\")\n",
      "Error in LangChainTracer.on_tool_end callback: TracerException(\"Found chain run at ID ef88efa1-7351-4475-8998-3212aa946314, but expected {'tool'} run.\")\n",
      "Error in LangChainTracer.on_tool_end callback: TracerException(\"Found chain run at ID 6f959d10-453a-40a3-a88f-f9f378e9e2be, but expected {'tool'} run.\")\n",
      "Error in LangChainTracer.on_tool_end callback: TracerException(\"Found chain run at ID 1ec5b8be-d769-4971-94d7-f3aa2b7c7c8a, but expected {'tool'} run.\")\n",
      "Error in LangChainTracer.on_tool_end callback: TracerException(\"Found chain run at ID a6592c84-3de8-4ffa-878c-bce4064fa51f, but expected {'tool'} run.\")\n",
      "Error in LangChainTracer.on_tool_end callback: TracerException(\"Found chain run at ID be32116d-3324-49e5-8857-81e20502ff56, but expected {'tool'} run.\")\n",
      "Error in LangChainTracer.on_tool_end callback: TracerException(\"Found chain run at ID 0f55a8ef-a981-4ab2-b27e-a47d4b742ccb, but expected {'tool'} run.\")\n",
      "Error in LangChainTracer.on_tool_end callback: TracerException(\"Found chain run at ID 62f37078-9fc4-49f7-ab6c-2adfb28da187, but expected {'tool'} run.\")\n",
      "Error in LangChainTracer.on_tool_end callback: TracerException(\"Found chain run at ID d738a7a1-d4b5-435e-b852-87106284ccf2, but expected {'tool'} run.\")\n",
      "Error in LangChainTracer.on_tool_end callback: TracerException(\"Found chain run at ID 474f7dc9-381c-4dd8-8845-aabf7da89838, but expected {'tool'} run.\")\n",
      "Error in LangChainTracer.on_tool_end callback: TracerException(\"Found chain run at ID 83486280-bdfb-4c00-9f21-5799b6dfae17, but expected {'tool'} run.\")\n",
      "Error in LangChainTracer.on_tool_end callback: TracerException(\"Found chain run at ID 90dbf0a7-1370-432f-9f1d-e405018296f1, but expected {'tool'} run.\")\n",
      "Error in LangChainTracer.on_tool_end callback: TracerException(\"Found chain run at ID 549a2b72-483d-45b1-af81-012f2d8f45ea, but expected {'tool'} run.\")\n",
      "Error in LangChainTracer.on_tool_end callback: TracerException(\"Found chain run at ID ae2bdb9d-b5e7-4f7e-b3e7-5850feed50be, but expected {'tool'} run.\")\n",
      "Error in LangChainTracer.on_tool_end callback: TracerException(\"Found chain run at ID d653e577-aebe-4a8c-98b6-88667c703e42, but expected {'tool'} run.\")\n",
      "Error in LangChainTracer.on_tool_end callback: TracerException(\"Found chain run at ID 1b897fa3-dfc5-48fe-8e45-6153603c272d, but expected {'tool'} run.\")\n",
      "Error in LangChainTracer.on_tool_end callback: TracerException(\"Found chain run at ID a291b104-d494-4e12-9317-07fe559d4a50, but expected {'tool'} run.\")\n",
      "Error in LangChainTracer.on_tool_end callback: TracerException(\"Found chain run at ID 7a4327d6-b78a-4496-a48b-480ac7da722f, but expected {'tool'} run.\")\n",
      "Error in LangChainTracer.on_tool_end callback: TracerException(\"Found chain run at ID 0e96c7f9-aa3f-4714-8ef3-06b3383e2f93, but expected {'tool'} run.\")\n",
      "Error in LangChainTracer.on_tool_end callback: TracerException(\"Found chain run at ID ac14e902-9957-4674-8d06-676f809c1797, but expected {'tool'} run.\")\n",
      "Error in LangChainTracer.on_tool_end callback: TracerException(\"Found chain run at ID e37a1ad7-0374-4669-932e-f540b42d4046, but expected {'tool'} run.\")\n"
     ]
    },
    {
     "name": "stdout",
     "output_type": "stream",
     "text": [
      "Total tokens:  286489 , total cost:  2.158685\n",
      "Save data in experiment/grade6_2.csv\n"
     ]
    },
    {
     "ename": "",
     "evalue": "",
     "output_type": "error",
     "traceback": [
      "\u001b[1;31mThe Kernel crashed while executing code in the current cell or a previous cell. \n",
      "\u001b[1;31mPlease review the code in the cell(s) to identify a possible cause of the failure. \n",
      "\u001b[1;31mClick <a href='https://aka.ms/vscodeJupyterKernelCrash'>here</a> for more info. \n",
      "\u001b[1;31mView Jupyter <a href='command:jupyter.viewOutput'>log</a> for further details."
     ]
    }
   ],
   "source": [
    "target = 'grade6_2'\n",
    "data = read_csv('dataset/{}.csv'.format(target))\n",
    "res = my_evaluator(data[1:])\n",
    "write_result_csv(res, 'experiment/{}.csv'.format(target))"
   ]
  },
  {
   "cell_type": "markdown",
   "metadata": {},
   "source": [
    "### Result\n",
    "\n",
    "#### Accuracy Table\n",
    "\n",
    "| 年級_學期 | 錯誤題數 | 總題數 | 答對率 |\n",
    "| :------: | :------: | :---: | :----: |\n",
    "| grade1_1 | 4        | 54    | 92.6%  |\n",
    "| grade1_2 | 6        | 166   | 96.4%  |\n",
    "| grade2_1 | 21       | 230   | 90.9%  |\n",
    "| grade2_2 | 20       | 223   | 91.0%  |\n",
    "| grade3_1 | 24       | 245   | 90.2%  |\n",
    "| grade3_2 | 16       | 166   | 90.4%  |\n",
    "| grade4_1 | 12       | 155   | 92.3%  |\n",
    "| grade4_2 | 43       | 203   | 78.8%  |\n",
    "| grade5_1 | 50       | 329   | 84.8%  |\n",
    "| grade5_2 | 25       | 186   | 86.6%  |\n",
    "| grade6_1 | 62       | 331   | 81.3%  |\n",
    "| grade6_2 | 19       | 86    | 77.9%  |\n",
    "\n",
    "#### 總計\n",
    "錯誤題數: 302,  總題數: 2374, 答對率: 87.3 % \n"
   ]
  },
  {
   "cell_type": "code",
   "execution_count": null,
   "metadata": {},
   "outputs": [],
   "source": []
  }
 ],
 "metadata": {
  "kernelspec": {
   "display_name": "gpt_server",
   "language": "python",
   "name": "python3"
  },
  "language_info": {
   "codemirror_mode": {
    "name": "ipython",
    "version": 3
   },
   "file_extension": ".py",
   "mimetype": "text/x-python",
   "name": "python",
   "nbconvert_exporter": "python",
   "pygments_lexer": "ipython3",
   "version": "3.12.3"
  }
 },
 "nbformat": 4,
 "nbformat_minor": 2
}
